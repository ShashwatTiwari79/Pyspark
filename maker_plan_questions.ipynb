{
 "cells": [
  {
   "cell_type": "markdown",
   "id": "02e5fd90",
   "metadata": {},
   "source": [
    "Develop CovidDB MIS application:\n",
    "Covid-Data-Global :\n",
    "1. To find out the death percentage locally and globally"
   ]
  },
  {
   "cell_type": "code",
   "execution_count": 1,
   "id": "f51b21ce",
   "metadata": {},
   "outputs": [
    {
     "name": "stdout",
     "output_type": "stream",
     "text": [
      "+--------------+-------------+----------+----------+--------+-----------+---------+--------------+------------+-----------+----------------+----------------+-------------+----------+------------+--------------------+\n",
      "|Country/Region|    Continent|Population|TotalCases|NewCases|TotalDeaths|NewDeaths|TotalRecovered|NewRecovered|ActiveCases|Serious,Critical|Tot Cases/1M pop|Deaths/1M pop|TotalTests|Tests/1M pop|          WHO Region|\n",
      "+--------------+-------------+----------+----------+--------+-----------+---------+--------------+------------+-----------+----------------+----------------+-------------+----------+------------+--------------------+\n",
      "|           USA|North America| 331198130|   5032179|    NULL|     162804|     NULL|       2576668|        NULL|    2292707|           18296|           15194|        492.0|  63139605|      190640|            Americas|\n",
      "|        Brazil|South America| 212710692|   2917562|    NULL|      98644|     NULL|       2047660|        NULL|     771258|            8318|           13716|        464.0|  13206188|       62085|            Americas|\n",
      "|         India|         Asia|1381344997|   2025409|    NULL|      41638|     NULL|       1377384|        NULL|     606387|            8944|            1466|         30.0|  22149351|       16035|      South-EastAsia|\n",
      "|        Russia|       Europe| 145940924|    871894|    NULL|      14606|     NULL|        676357|        NULL|     180931|            2300|            5974|        100.0|  29716907|      203623|              Europe|\n",
      "|  South Africa|       Africa|  59381566|    538184|    NULL|       9604|     NULL|        387316|        NULL|     141264|             539|            9063|        162.0|   3149807|       53044|              Africa|\n",
      "|        Mexico|North America| 129066160|    462690|    6590|      50517|      819|        308848|        4140|     103325|            3987|            3585|        391.0|   1056915|        8189|            Americas|\n",
      "|          Peru|South America|  33016319|    455409|    NULL|      20424|     NULL|        310337|        NULL|     124648|            1426|           13793|        619.0|   2493429|       75521|            Americas|\n",
      "|         Chile|South America|  19132514|    366671|    NULL|       9889|     NULL|        340168|        NULL|      16614|            1358|           19165|        517.0|   1760615|       92022|            Americas|\n",
      "|      Colombia|South America|  50936262|    357710|    NULL|      11939|     NULL|        192355|        NULL|     153416|            1493|            7023|        234.0|   1801835|       35374|            Americas|\n",
      "|         Spain|       Europe|  46756648|    354530|    NULL|      28500|     NULL|          NULL|        NULL|       NULL|             617|            7582|        610.0|   7064329|      151087|              Europe|\n",
      "|          Iran|         Asia|  84097623|    320117|    NULL|      17976|     NULL|        277463|        NULL|      24678|            4156|            3806|        214.0|   2612763|       31068|EasternMediterranean|\n",
      "|            UK|       Europe|  67922029|    308134|    NULL|      46413|     NULL|          NULL|        NULL|       NULL|              73|            4537|        683.0|  17515234|      257873|              Europe|\n",
      "|  Saudi Arabia|         Asia|  34865919|    284226|    NULL|       3055|     NULL|        247089|        NULL|      34082|            1915|            8152|         88.0|   3635705|      104277|EasternMediterranean|\n",
      "|      Pakistan|         Asia| 221295851|    281863|    NULL|       6035|     NULL|        256058|        NULL|      19770|             809|            1274|         27.0|   2058872|        9304|EasternMediterranean|\n",
      "|    Bangladesh|         Asia| 164851401|    249651|    NULL|       3306|     NULL|        143824|        NULL|     102521|            NULL|            1514|         20.0|   1225124|        7432|      South-EastAsia|\n",
      "|         Italy|       Europe|  60452568|    249204|    NULL|      35187|     NULL|        201323|        NULL|      12694|              42|            4122|        582.0|   7099713|      117443|              Europe|\n",
      "|        Turkey|         Asia|  84428331|    237265|    NULL|       5798|     NULL|        220546|        NULL|      10921|             580|            2810|         69.0|   5081802|       60191|              Europe|\n",
      "|     Argentina|South America|  45236884|    228195|    NULL|       4251|     NULL|         99852|        NULL|     124092|            1150|            5044|         94.0|    794544|       17564|            Americas|\n",
      "|       Germany|       Europe|  83811260|    215210|    NULL|       9252|     NULL|        196200|        NULL|       9758|             236|            2568|        110.0|   8586648|      102452|              Europe|\n",
      "|        France|       Europe|  65288306|    195633|    NULL|      30312|     NULL|         82460|        NULL|      82861|             384|            2996|        464.0|   3992206|       61147|              Europe|\n",
      "+--------------+-------------+----------+----------+--------+-----------+---------+--------------+------------+-----------+----------------+----------------+-------------+----------+------------+--------------------+\n",
      "only showing top 20 rows\n",
      "\n",
      "root\n",
      " |-- Country/Region: string (nullable = true)\n",
      " |-- Continent: string (nullable = true)\n",
      " |-- Population: integer (nullable = true)\n",
      " |-- TotalCases: integer (nullable = true)\n",
      " |-- NewCases: integer (nullable = true)\n",
      " |-- TotalDeaths: integer (nullable = true)\n",
      " |-- NewDeaths: integer (nullable = true)\n",
      " |-- TotalRecovered: integer (nullable = true)\n",
      " |-- NewRecovered: integer (nullable = true)\n",
      " |-- ActiveCases: integer (nullable = true)\n",
      " |-- Serious,Critical: integer (nullable = true)\n",
      " |-- Tot Cases/1M pop: integer (nullable = true)\n",
      " |-- Deaths/1M pop: double (nullable = true)\n",
      " |-- TotalTests: integer (nullable = true)\n",
      " |-- Tests/1M pop: integer (nullable = true)\n",
      " |-- WHO Region: string (nullable = true)\n",
      "\n"
     ]
    }
   ],
   "source": [
    "import pyspark\n",
    "from pyspark.sql import SparkSession\n",
    "spark = SparkSession.builder.appName(\"MakerPlan\").getOrCreate()\n",
    "df = spark.read.csv('worldometer.csv',header=True,inferSchema=True)\n",
    "df.show()\n",
    "df.printSchema()"
   ]
  },
  {
   "cell_type": "code",
   "execution_count": 2,
   "id": "8736d90c",
   "metadata": {},
   "outputs": [
    {
     "name": "stdout",
     "output_type": "stream",
     "text": [
      "+--------------------+\n",
      "|global_death_percent|\n",
      "+--------------------+\n",
      "|                3.72|\n",
      "+--------------------+\n",
      "\n"
     ]
    }
   ],
   "source": [
    "from pyspark.sql.functions import sum,round\n",
    "result = df.select(round((sum(\"TotalDeaths\")*100.0/sum(\"totalCases\")),2).alias(\"global_death_percent\"))\n",
    "result.show()"
   ]
  },
  {
   "cell_type": "code",
   "execution_count": 3,
   "id": "3eb1a462",
   "metadata": {},
   "outputs": [
    {
     "name": "stdout",
     "output_type": "stream",
     "text": [
      "+---------------+----------+-----------+-------------------+\n",
      "| Country/Region|TotalCases|TotalDeaths|local_death_percent|\n",
      "+---------------+----------+-----------+-------------------+\n",
      "|          Yemen|      1768|        508|              28.73|\n",
      "|         France|    195633|      30312|              15.49|\n",
      "|             UK|    308134|      46413|              15.06|\n",
      "|          Italy|    249204|      35187|              14.12|\n",
      "|        Belgium|     71158|       9859|              13.86|\n",
      "|        Hungary|      4597|        600|              13.05|\n",
      "|         Mexico|    462690|      50517|              10.92|\n",
      "|    Netherlands|     56982|       6153|               10.8|\n",
      "|   Sint Maarten|       160|         16|               10.0|\n",
      "| Western Sahara|        10|          1|               10.0|\n",
      "|           Chad|       942|         76|               8.07|\n",
      "|          Spain|    354530|      28500|               8.04|\n",
      "|Channel Islands|       597|         47|               7.87|\n",
      "|     Montserrat|        13|          1|               7.69|\n",
      "|         Canada|    118561|       8966|               7.56|\n",
      "|    Isle of Man|       336|         24|               7.14|\n",
      "|         Sweden|     81967|       5766|               7.03|\n",
      "|        Ireland|     26372|       1768|                6.7|\n",
      "|        Ecuador|     90537|       5877|               6.49|\n",
      "|          Sudan|     11780|        763|               6.48|\n",
      "+---------------+----------+-----------+-------------------+\n",
      "only showing top 20 rows\n",
      "\n"
     ]
    }
   ],
   "source": [
    "from pyspark.sql.functions import col, round, when\n",
    "df_with_percent = df.select(col(\"Country/Region\"),col(\"TotalCases\"),col(\"TotalDeaths\"),\n",
    "round((col(\"TotalDeaths\")*100.0/when(col(\"TotalCases\")!=0,col(\"TotalCases\"))),2).alias(\"local_death_percent\"))\n",
    "result = df_with_percent.orderBy(col(\"local_death_percent\").desc())\n",
    "result.show()"
   ]
  },
  {
   "cell_type": "markdown",
   "id": "c59f3c62",
   "metadata": {},
   "source": [
    "2. To find out the infected population percentage locally and globally"
   ]
  },
  {
   "cell_type": "code",
   "execution_count": 4,
   "id": "07661d61",
   "metadata": {},
   "outputs": [
    {
     "name": "stdout",
     "output_type": "stream",
     "text": [
      "+------------------------+\n",
      "|global_infection_percent|\n",
      "+------------------------+\n",
      "|                     0.3|\n",
      "+------------------------+\n",
      "\n"
     ]
    }
   ],
   "source": [
    "result = df.select(round((sum(\"TotalCases\")*100.0)/sum(\"Population\"),2).alias(\"global_infection_percent\"))\n",
    "result.show()"
   ]
  },
  {
   "cell_type": "code",
   "execution_count": 5,
   "id": "65552734",
   "metadata": {},
   "outputs": [
    {
     "name": "stdout",
     "output_type": "stream",
     "text": [
      "+--------------+----------+----------+-----------------------+\n",
      "|Country/Region|TotalCases|Population|local_infection_percent|\n",
      "+--------------+----------+----------+-----------------------+\n",
      "|         Qatar|    112092|   2807805|                   3.99|\n",
      "| French Guiana|      8127|    299385|                   2.71|\n",
      "|       Bahrain|     42889|   1706669|                   2.51|\n",
      "|    San Marino|       699|     33938|                   2.06|\n",
      "|         Chile|    366671|  19132514|                   1.92|\n",
      "|        Panama|     71418|   4321282|                   1.65|\n",
      "|        Kuwait|     70045|   4276658|                   1.64|\n",
      "|          Oman|     80713|   5118446|                   1.58|\n",
      "|           USA|   5032179| 331198130|                   1.52|\n",
      "|  Vatican City|        12|       801|                    1.5|\n",
      "|          Peru|    455409|  33016319|                   1.38|\n",
      "|        Brazil|   2917562| 212710692|                   1.37|\n",
      "|       Armenia|     39819|   2963811|                   1.34|\n",
      "|       Andorra|       944|     77278|                   1.22|\n",
      "|    Luxembourg|      7073|    626952|                   1.13|\n",
      "|       Mayotte|      3042|    273419|                   1.11|\n",
      "|     Singapore|     54555|   5854932|                   0.93|\n",
      "|  South Africa|    538184|  59381566|                   0.91|\n",
      "|        Israel|     79559|   9197590|                   0.86|\n",
      "|      Maldives|      4680|    541448|                   0.86|\n",
      "+--------------+----------+----------+-----------------------+\n",
      "only showing top 20 rows\n",
      "\n"
     ]
    }
   ],
   "source": [
    "result = df.select(col(\"Country/Region\"), col(\"TotalCases\"), col(\"Population\"),\n",
    "round((col(\"TotalCases\") * 100.0 / when(col(\"Population\") != 0, col(\"Population\"))), 2).alias(\"local_infection_percent\"))\n",
    "result = result.orderBy(col(\"local_infection_percent\").desc())\n",
    "result.show()"
   ]
  },
  {
   "cell_type": "markdown",
   "id": "5ceba4c9",
   "metadata": {},
   "source": [
    "3. To find out the countries with the highest infection rates"
   ]
  },
  {
   "cell_type": "code",
   "execution_count": 6,
   "id": "8f7ca969",
   "metadata": {},
   "outputs": [
    {
     "name": "stdout",
     "output_type": "stream",
     "text": [
      "+--------------+-----------------------+\n",
      "|Country/Region|most_infected_countries|\n",
      "+--------------+-----------------------+\n",
      "|           USA|                5032179|\n",
      "|        Brazil|                2917562|\n",
      "|         India|                2025409|\n",
      "|        Russia|                 871894|\n",
      "|  South Africa|                 538184|\n",
      "|        Mexico|                 462690|\n",
      "|          Peru|                 455409|\n",
      "|         Chile|                 366671|\n",
      "|      Colombia|                 357710|\n",
      "|         Spain|                 354530|\n",
      "+--------------+-----------------------+\n",
      "\n"
     ]
    }
   ],
   "source": [
    "from pyspark.sql.functions import col,max \n",
    "result = df.groupBy(\"Country/Region\").agg(max(\"TotalCases\").alias(\"most_infected_countries\")).orderBy(col(\"most_infected_countries\").desc()).limit(10)\n",
    "result.show()"
   ]
  },
  {
   "cell_type": "markdown",
   "id": "cdc12d89",
   "metadata": {},
   "source": [
    "4. To find out the countries and continents with the highest death counts"
   ]
  },
  {
   "cell_type": "code",
   "execution_count": 7,
   "id": "f5ee9be8",
   "metadata": {},
   "outputs": [
    {
     "name": "stdout",
     "output_type": "stream",
     "text": [
      "+--------------+-------------------+\n",
      "|Country/Region|highest_death_count|\n",
      "+--------------+-------------------+\n",
      "|           USA|             162804|\n",
      "|        Brazil|              98644|\n",
      "|        Mexico|              50517|\n",
      "|            UK|              46413|\n",
      "|         India|              41638|\n",
      "|         Italy|              35187|\n",
      "|        France|              30312|\n",
      "|         Spain|              28500|\n",
      "|          Peru|              20424|\n",
      "|          Iran|              17976|\n",
      "+--------------+-------------------+\n",
      "\n"
     ]
    }
   ],
   "source": [
    "from pyspark.sql.functions import col, sum, coalesce, lit\n",
    "result = df.groupBy(\"Country/Region\").agg(sum(coalesce(col(\"TotalDeaths\"), lit(0))).alias(\"highest_death_count\"))\n",
    "result = result.orderBy(col(\"highest_death_count\").desc()).limit(10)\n",
    "result.show()"
   ]
  },
  {
   "cell_type": "markdown",
   "id": "31b78681",
   "metadata": {},
   "source": [
    "5. Average number of deaths by day (Continents and Countries)"
   ]
  },
  {
   "cell_type": "code",
   "execution_count": 8,
   "id": "7b1df2c4",
   "metadata": {},
   "outputs": [
    {
     "name": "stdout",
     "output_type": "stream",
     "text": [
      "+-----------------+----------------+\n",
      "|        Continent|avg_daily_deaths|\n",
      "+-----------------+----------------+\n",
      "|    North America|            23.4|\n",
      "|    South America|            5.71|\n",
      "|             Asia|            0.02|\n",
      "|           Europe|             0.0|\n",
      "|           Africa|             0.0|\n",
      "|             NULL|             0.0|\n",
      "|Australia/Oceania|             0.0|\n",
      "+-----------------+----------------+\n",
      "\n"
     ]
    }
   ],
   "source": [
    "from pyspark.sql.functions import avg\n",
    "result = df.groupBy(\"Continent\").agg(round(avg(coalesce(col(\"NewDeaths\"), lit(0))),2).alias(\"avg_daily_deaths\"))\n",
    "result = result.orderBy(col(\"avg_daily_deaths\").desc())\n",
    "result.show()"
   ]
  },
  {
   "cell_type": "markdown",
   "id": "299ede35",
   "metadata": {},
   "source": [
    "6. Average of cases divided by the number of population of each country (TOP\n",
    "10)"
   ]
  },
  {
   "cell_type": "code",
   "execution_count": 9,
   "id": "afaa3615",
   "metadata": {},
   "outputs": [
    {
     "name": "stdout",
     "output_type": "stream",
     "text": [
      "+--------------+----------+----------+-----------------+\n",
      "|Country/Region|TotalCases|Population|infection_percent|\n",
      "+--------------+----------+----------+-----------------+\n",
      "|         Qatar|    112092|   2807805|             3.99|\n",
      "| French Guiana|      8127|    299385|             2.71|\n",
      "|       Bahrain|     42889|   1706669|             2.51|\n",
      "|    San Marino|       699|     33938|             2.06|\n",
      "|         Chile|    366671|  19132514|             1.92|\n",
      "|        Panama|     71418|   4321282|             1.65|\n",
      "|        Kuwait|     70045|   4276658|             1.64|\n",
      "|          Oman|     80713|   5118446|             1.58|\n",
      "|           USA|   5032179| 331198130|             1.52|\n",
      "|  Vatican City|        12|       801|              1.5|\n",
      "+--------------+----------+----------+-----------------+\n",
      "\n"
     ]
    }
   ],
   "source": [
    "result = df.select(col(\"Country/Region\"), col(\"TotalCases\"), col(\"Population\"),\n",
    "round((col(\"TotalCases\") * 100.0) / when(col(\"Population\") != 0, col(\"Population\")), 2).alias(\"infection_percent\"))\n",
    "result = result.orderBy(col(\"infection_percent\").desc()).limit(10)\n",
    "result.show()"
   ]
  },
  {
   "cell_type": "markdown",
   "id": "2b11d4d2",
   "metadata": {},
   "source": [
    "Using JOINS to combine the covid_deaths and covid_vaccine tables :\n",
    "1. To find out the population vs the number of people vaccinated"
   ]
  },
  {
   "cell_type": "code",
   "execution_count": 9,
   "id": "f70254b2",
   "metadata": {},
   "outputs": [
    {
     "name": "stdout",
     "output_type": "stream",
     "text": [
      "+--------------+----------+-----------------------+------------------+\n",
      "|Country/Region|Population|total_people_vaccinated|percent_vaccinated|\n",
      "+--------------+----------+-----------------------+------------------+\n",
      "|         Spain|  46756648|               90174564|            192.86|\n",
      "|     Argentina|  45236884|               73644938|             162.8|\n",
      "|     Australia|  25528864|               28271812|            110.74|\n",
      "|  South Africa|  59381566|               60756794|            102.32|\n",
      "|        Canada|  37775022|               36451668|              96.5|\n",
      "|  Saudi Arabia|  34865919|               33514620|             96.12|\n",
      "|        Poland|  37842302|               35984096|             95.09|\n",
      "|         Japan| 126435859|               85256419|             67.43|\n",
      "|         Egypt| 102516525|               67109882|             65.46|\n",
      "|        Turkey|  84428331|               53611439|              63.5|\n",
      "|            UK|  67922029|               42835856|             63.07|\n",
      "|         Italy|  60452568|               37861529|             62.63|\n",
      "|       Germany|  83811260|               45784782|             54.63|\n",
      "|        Russia| 145940924|               71888907|             49.26|\n",
      "|        Mexico| 129066160|               38819399|             30.08|\n",
      "|       Nigeria| 206606300|               54725869|             26.49|\n",
      "|     Indonesia| 273808365|               49968904|             18.25|\n",
      "|           USA| 331198130|               51744209|             15.62|\n",
      "|        Brazil| 212710692|               29940019|             14.08|\n",
      "|    Bangladesh| 164851401|               20200094|             12.25|\n",
      "+--------------+----------+-----------------------+------------------+\n",
      "only showing top 20 rows\n",
      "\n"
     ]
    }
   ],
   "source": [
    "import pyspark\n",
    "from pyspark.sql.functions import col,round,max\n",
    "from pyspark.sql import SparkSession\n",
    "spark = SparkSession.builder.appName(\"MakerPlanJoins\").getOrCreate()\n",
    "df_world = spark.read.csv('worldometer.csv',header=True,inferSchema = True)\n",
    "df_covid = spark.read.csv('covid.csv',header=True,inferSchema=True)\n",
    "joined_df = df_world.join(df_covid, on=\"Country/Region\")\n",
    "\n",
    "result = joined_df.groupBy(\"Country/Region\", \"Population\") \\\n",
    "\t.agg(max(\"People_vaccinated\").alias(\"total_people_vaccinated\")) \\\n",
    "\t.withColumn(\"percent_vaccinated\", round(col(\"total_people_vaccinated\") * 100.0 / col(\"Population\"), 2)) \\\n",
    "\t.orderBy(col(\"percent_vaccinated\").desc())\n",
    "\n",
    "result.show()"
   ]
  },
  {
   "cell_type": "markdown",
   "id": "0f92538c",
   "metadata": {},
   "source": [
    "2. To find out the percentage of different vaccine taken by people in a country"
   ]
  },
  {
   "cell_type": "code",
   "execution_count": 17,
   "id": "39107724",
   "metadata": {},
   "outputs": [
    {
     "name": "stdout",
     "output_type": "stream",
     "text": [
      "+--------------+----------+------------+\n",
      "|Country/Region|  Vaccines|record_count|\n",
      "+--------------+----------+------------+\n",
      "|         India| Covaxin  |           1|\n",
      "+--------------+----------+------------+\n",
      "\n"
     ]
    }
   ],
   "source": [
    "from pyspark.sql.functions import count\n",
    "\n",
    "# Rename the column to remove the trailing space\n",
    "joined_df = joined_df.withColumnRenamed(\"Vaccines \", \"Vaccines\")\n",
    "\n",
    "# Filter and group by the corrected column name\n",
    "joined_df.filter(col(\"Country/Region\") == \"India\").groupBy(\"Country/Region\", \"Vaccines\").agg(count(\"*\").alias(\"record_count\")).show()"
   ]
  },
  {
   "cell_type": "markdown",
   "id": "67e6f115",
   "metadata": {},
   "source": [
    "3. To find out percentage of people who took both the doses"
   ]
  },
  {
   "cell_type": "code",
   "execution_count": 19,
   "id": "afa95a5a",
   "metadata": {},
   "outputs": [
    {
     "name": "stdout",
     "output_type": "stream",
     "text": [
      "+--------------+----------------+----------------------+------------------------+\n",
      "|Country/Region|total_vaccinated|total_fully_vaccinated|percent_fully_vaccinated|\n",
      "+--------------+----------------+----------------------+------------------------+\n",
      "|        Russia|        71888907|              67254980|                   93.55|\n",
      "|        Turkey|        53611439|              34632934|                    64.6|\n",
      "|       Germany|        45784782|              17216543|                    37.6|\n",
      "|        France|         2336961|               2010072|                   86.01|\n",
      "|     Argentina|        73644938|              71103845|                   96.55|\n",
      "|         India|        32095958|              31420042|                   97.89|\n",
      "|         China|        33950722|              18860949|                   55.55|\n",
      "|       Nigeria|        54725869|              31841587|                   58.18|\n",
      "|         Italy|        37861529|              16696305|                    44.1|\n",
      "|         Spain|        90174564|              66170088|                   73.38|\n",
      "|    Bangladesh|        20200094|              15342295|                   75.95|\n",
      "|           USA|        51744209|              29696222|                   57.39|\n",
      "|   South Korea|        32015334|              20578233|                   64.28|\n",
      "|        Mexico|        38819399|              17144752|                   44.17|\n",
      "|     Indonesia|        49968904|              19203397|                   38.43|\n",
      "|            UK|        42835856|              19255922|                   44.95|\n",
      "|  Saudi Arabia|        33514620|              12301217|                    36.7|\n",
      "|        Canada|        36451668|               6973469|                   19.13|\n",
      "|        Brazil|        29940019|              21053080|                   70.32|\n",
      "|         Japan|        85256419|              45114282|                   52.92|\n",
      "+--------------+----------------+----------------------+------------------------+\n",
      "only showing top 20 rows\n",
      "\n"
     ]
    }
   ],
   "source": [
    "from pyspark.sql.functions import col, max, round\n",
    "\n",
    "# Use the correct DataFrame (df_covid) for aggregation\n",
    "grouped_df = df_covid.groupBy(\"Country/Region\").agg(\n",
    "    max(\"People_vaccinated\").alias(\"total_vaccinated\"),\n",
    "    max(\"People_fully_vaccinated\").alias(\"total_fully_vaccinated\")\n",
    ")\n",
    "\n",
    "# Calculate the percentage of fully vaccinated people\n",
    "result_df = grouped_df.withColumn(\n",
    "    \"percent_fully_vaccinated\",\n",
    "    round(col(\"total_fully_vaccinated\") * 100.0 / col(\"total_vaccinated\"), 2)\n",
    ")\n",
    "\n",
    "result_df.show()"
   ]
  }
 ],
 "metadata": {
  "kernelspec": {
   "display_name": "Python 3",
   "language": "python",
   "name": "python3"
  },
  "language_info": {
   "codemirror_mode": {
    "name": "ipython",
    "version": 3
   },
   "file_extension": ".py",
   "mimetype": "text/x-python",
   "name": "python",
   "nbconvert_exporter": "python",
   "pygments_lexer": "ipython3",
   "version": "3.9.0"
  }
 },
 "nbformat": 4,
 "nbformat_minor": 5
}
