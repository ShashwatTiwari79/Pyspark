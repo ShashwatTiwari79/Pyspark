{
 "cells": [
  {
   "cell_type": "code",
   "execution_count": 1,
   "id": "1aee0c28",
   "metadata": {},
   "outputs": [
    {
     "name": "stdout",
     "output_type": "stream",
     "text": [
      "+----------+----------+--------------------+\n",
      "|Covid_data|WHO Region|        Country_wise|\n",
      "+----------+----------+--------------------+\n",
      "|       USA|  Americas|           Venezuela|\n",
      "|       USA|  Americas|             Uruguay|\n",
      "|       USA|  Americas|                  US|\n",
      "|       USA|  Americas| Trinidad and Tobago|\n",
      "|       USA|  Americas|            Suriname|\n",
      "|       USA|  Americas|Saint Vincent and...|\n",
      "|       USA|  Americas|         Saint Lucia|\n",
      "|       USA|  Americas|Saint Kitts and N...|\n",
      "|       USA|  Americas|                Peru|\n",
      "|       USA|  Americas|            Paraguay|\n",
      "|       USA|  Americas|              Panama|\n",
      "|       USA|  Americas|           Nicaragua|\n",
      "|       USA|  Americas|              Mexico|\n",
      "|       USA|  Americas|             Jamaica|\n",
      "|       USA|  Americas|            Honduras|\n",
      "|       USA|  Americas|               Haiti|\n",
      "|       USA|  Americas|              Guyana|\n",
      "|       USA|  Americas|           Guatemala|\n",
      "|       USA|  Americas|             Grenada|\n",
      "|       USA|  Americas|         El Salvador|\n",
      "+----------+----------+--------------------+\n",
      "only showing top 20 rows\n",
      "\n"
     ]
    }
   ],
   "source": [
    "import pyspark\n",
    "from pyspark.sql import SparkSession\n",
    "from pyspark.sql import Row\n",
    "spark = SparkSession.builder.appName(\"Joins\").getOrCreate()\n",
    "df1 = spark.read.csv('worldometer.csv',header=True,inferSchema=True)\n",
    "df2 = spark.read.csv('country_wise.csv',header=True,inferSchema=True)\n",
    "df_inner = df1.join(df2,df1[\"WHO Region\"]==df2[\"WHO Region\"],\"inner\")\n",
    "df_result = df_inner.select(df1[\"Country/Region\"].alias(\"Covid_data\"),df2[\"WHO Region\"],df2[\"Country/Region\"].alias(\"Country_wise\"))\n",
    "df_result.show()"
   ]
  },
  {
   "cell_type": "code",
   "execution_count": 20,
   "id": "847175bc",
   "metadata": {},
   "outputs": [
    {
     "name": "stdout",
     "output_type": "stream",
     "text": [
      "+--------------+----------+--------------+---------+\n",
      "|Country/Region|TotalCases|Country/Region|Confirmed|\n",
      "+--------------+----------+--------------+---------+\n",
      "|           USA|   5032179|          NULL|     NULL|\n",
      "|        Brazil|   2917562|          NULL|     NULL|\n",
      "|         India|   2025409|          NULL|     NULL|\n",
      "|        Russia|    871894|          NULL|     NULL|\n",
      "|  South Africa|    538184|          NULL|     NULL|\n",
      "|        Mexico|    462690|          NULL|     NULL|\n",
      "|          Peru|    455409|          NULL|     NULL|\n",
      "|         Chile|    366671|          NULL|     NULL|\n",
      "|      Colombia|    357710|          NULL|     NULL|\n",
      "|         Spain|    354530|          NULL|     NULL|\n",
      "|          Iran|    320117|          NULL|     NULL|\n",
      "|            UK|    308134|          NULL|     NULL|\n",
      "|  Saudi Arabia|    284226|          NULL|     NULL|\n",
      "|      Pakistan|    281863|          NULL|     NULL|\n",
      "|    Bangladesh|    249651|          NULL|     NULL|\n",
      "|         Italy|    249204|          NULL|     NULL|\n",
      "|        Turkey|    237265|          NULL|     NULL|\n",
      "|     Argentina|    228195|          NULL|     NULL|\n",
      "|       Germany|    215210|          NULL|     NULL|\n",
      "|        France|    195633|          NULL|     NULL|\n",
      "+--------------+----------+--------------+---------+\n",
      "only showing top 20 rows\n",
      "\n"
     ]
    }
   ],
   "source": [
    "df_left = df1.join(df2,df2[\"Confirmed\"]==df1[\"TotalCases\"],\"left\")\n",
    "\n",
    "df_result = df_left.select(df1[\"Country/Region\"],df1[\"TotalCases\"],df2[\"Country/Region\"],df2[\"Confirmed\"])  \n",
    "df_result.show()"
   ]
  },
  {
   "cell_type": "code",
   "execution_count": 35,
   "id": "dec80449",
   "metadata": {},
   "outputs": [
    {
     "name": "stdout",
     "output_type": "stream",
     "text": [
      "+----------+--------------------+\n",
      "|WHO Region|          WHO Region|\n",
      "+----------+--------------------+\n",
      "|      NULL|            Americas|\n",
      "|      NULL|            Americas|\n",
      "|      NULL|      South-EastAsia|\n",
      "|      NULL|              Europe|\n",
      "|      NULL|              Africa|\n",
      "|      NULL|            Americas|\n",
      "|      NULL|            Americas|\n",
      "|      NULL|            Americas|\n",
      "|      NULL|            Americas|\n",
      "|      NULL|              Europe|\n",
      "|      NULL|EasternMediterranean|\n",
      "|      NULL|              Europe|\n",
      "|      NULL|EasternMediterranean|\n",
      "|      NULL|EasternMediterranean|\n",
      "|      NULL|      South-EastAsia|\n",
      "|      NULL|              Europe|\n",
      "|      NULL|              Europe|\n",
      "|      NULL|            Americas|\n",
      "|      NULL|              Europe|\n",
      "|      NULL|              Europe|\n",
      "+----------+--------------------+\n",
      "only showing top 20 rows\n",
      "\n"
     ]
    }
   ],
   "source": [
    "df_right = df1.join(df2,df1[\"NewCases\"]==df2[\"New cases\"],\"right\")\n",
    "\n",
    "df_result = df_left.select(df2[\"WHO Region\"],df1[\"WHO Region\"])  \n",
    "df_result.show()"
   ]
  },
  {
   "cell_type": "code",
   "execution_count": 36,
   "id": "cc35fa66",
   "metadata": {},
   "outputs": [
    {
     "name": "stdout",
     "output_type": "stream",
     "text": [
      "+--------------------+----------+--------------------+---------+\n",
      "|      Country/Region|TotalCases|      Country/Region|Confirmed|\n",
      "+--------------------+----------+--------------------+---------+\n",
      "|      Western Sahara|        10|      Western Sahara|       10|\n",
      "|        Vatican City|        12|            Holy See|       12|\n",
      "|          Montserrat|        13|                NULL|     NULL|\n",
      "|Caribbean Netherl...|        13|                NULL|     NULL|\n",
      "|    Falkland Islands|        13|                NULL|     NULL|\n",
      "|           Greenland|        14|           Greenland|       14|\n",
      "|Saint Kitts and N...|        17|Saint Kitts and N...|       17|\n",
      "|            Dominica|        18|            Dominica|       18|\n",
      "|                Laos|        20|                Laos|       20|\n",
      "|       New Caledonia|        22|                NULL|     NULL|\n",
      "|                NULL|      NULL|             Grenada|       23|\n",
      "|             Grenada|        24|         Saint Lucia|       24|\n",
      "|             Grenada|        24|         Timor-Leste|       24|\n",
      "|         Saint Lucia|        25|                NULL|     NULL|\n",
      "|         Timor-Leste|        25|                NULL|     NULL|\n",
      "|                Fiji|        27|                Fiji|       27|\n",
      "|             Curaçao|        31|                NULL|     NULL|\n",
      "|               Macao|        46|                NULL|     NULL|\n",
      "|                NULL|      NULL|              Belize|       48|\n",
      "|                NULL|      NULL|Saint Vincent and...|       52|\n",
      "+--------------------+----------+--------------------+---------+\n",
      "only showing top 20 rows\n",
      "\n"
     ]
    }
   ],
   "source": [
    "df_outer = df1.join(df2,df2[\"Confirmed\"]==df1[\"TotalCases\"],\"outer\")\n",
    "\n",
    "df_result = df_outer.select(df1[\"Country/Region\"],df1[\"TotalCases\"],df2[\"Country/Region\"],df2[\"Confirmed\"])  \n",
    "df_result.show()"
   ]
  }
 ],
 "metadata": {
  "kernelspec": {
   "display_name": "Python 3",
   "language": "python",
   "name": "python3"
  },
  "language_info": {
   "codemirror_mode": {
    "name": "ipython",
    "version": 3
   },
   "file_extension": ".py",
   "mimetype": "text/x-python",
   "name": "python",
   "nbconvert_exporter": "python",
   "pygments_lexer": "ipython3",
   "version": "3.9.0"
  }
 },
 "nbformat": 4,
 "nbformat_minor": 5
}
