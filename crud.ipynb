{
 "cells": [
  {
   "cell_type": "code",
   "execution_count": 1,
   "id": "aad24a3e",
   "metadata": {},
   "outputs": [],
   "source": [
    "import os\n",
    "os.environ[\"PYSPARK_PYTHON\"] = \"python\"\n",
    "os.environ[\"PYSPARK_DRIVER_PYTHON\"] = \"python\"\n"
   ]
  },
  {
   "cell_type": "code",
   "execution_count": 2,
   "id": "8e82f319",
   "metadata": {},
   "outputs": [
    {
     "name": "stdout",
     "output_type": "stream",
     "text": [
      "+--------------------+-------------------+---------+----------+----------+---------+------+---------+------+--------------------+\n",
      "|      Province/State|     Country/Region|      Lat|      Long|      Date|Confirmed|Deaths|Recovered|Active|          WHO Region|\n",
      "+--------------------+-------------------+---------+----------+----------+---------+------+---------+------+--------------------+\n",
      "|                NULL|        Afghanistan| 33.93911| 67.709953|2020-01-22|        0|     0|        0|     0|Eastern Mediterra...|\n",
      "|                NULL|            Albania|  41.1533|   20.1683|2020-01-22|        0|     0|        0|     0|              Europe|\n",
      "|                NULL|            Algeria|  28.0339|    1.6596|2020-01-22|        0|     0|        0|     0|              Africa|\n",
      "|                NULL|            Andorra|  42.5063|    1.5218|2020-01-22|        0|     0|        0|     0|              Europe|\n",
      "|                NULL|             Angola| -11.2027|   17.8739|2020-01-22|        0|     0|        0|     0|              Africa|\n",
      "|                NULL|Antigua and Barbuda|  17.0608|  -61.7964|2020-01-22|        0|     0|        0|     0|            Americas|\n",
      "|                NULL|          Argentina| -38.4161|  -63.6167|2020-01-22|        0|     0|        0|     0|            Americas|\n",
      "|                NULL|            Armenia|  40.0691|   45.0382|2020-01-22|        0|     0|        0|     0|              Europe|\n",
      "|Australian Capita...|          Australia| -35.4735|  149.0124|2020-01-22|        0|     0|        0|     0|     Western Pacific|\n",
      "|     New South Wales|          Australia| -33.8688|  151.2093|2020-01-22|        0|     0|        0|     0|     Western Pacific|\n",
      "|  Northern Territory|          Australia| -12.4634|  130.8456|2020-01-22|        0|     0|        0|     0|     Western Pacific|\n",
      "|          Queensland|          Australia| -27.4698|  153.0251|2020-01-22|        0|     0|        0|     0|     Western Pacific|\n",
      "|     South Australia|          Australia| -34.9285|  138.6007|2020-01-22|        0|     0|        0|     0|     Western Pacific|\n",
      "|            Tasmania|          Australia| -42.8821|  147.3272|2020-01-22|        0|     0|        0|     0|     Western Pacific|\n",
      "|            Victoria|          Australia| -37.8136|  144.9631|2020-01-22|        0|     0|        0|     0|     Western Pacific|\n",
      "|   Western Australia|          Australia| -31.9505|  115.8605|2020-01-22|        0|     0|        0|     0|     Western Pacific|\n",
      "|                NULL|            Austria|  47.5162|   14.5501|2020-01-22|        0|     0|        0|     0|              Europe|\n",
      "|                NULL|         Azerbaijan|  40.1431|   47.5769|2020-01-22|        0|     0|        0|     0|              Europe|\n",
      "|                NULL|            Bahamas|25.025885|-78.035889|2020-01-22|        0|     0|        0|     0|            Americas|\n",
      "|                NULL|            Bahrain|  26.0275|     50.55|2020-01-22|        0|     0|        0|     0|Eastern Mediterra...|\n",
      "+--------------------+-------------------+---------+----------+----------+---------+------+---------+------+--------------------+\n",
      "only showing top 20 rows\n",
      "\n"
     ]
    }
   ],
   "source": [
    "# printing the covid_dataset with top 20 rows\n",
    "import pyspark\n",
    "from pyspark.sql import SparkSession\n",
    "spark = SparkSession.builder.appName('Practice').getOrCreate()\n",
    "df_pyspark = spark.read.csv('covid_data.csv',header=True,inferSchema=True)\n",
    "df_pyspark.show()\n"
   ]
  },
  {
   "cell_type": "code",
   "execution_count": 3,
   "id": "279f1caa",
   "metadata": {},
   "outputs": [
    {
     "name": "stdout",
     "output_type": "stream",
     "text": [
      "root\n",
      " |-- Province/State: string (nullable = true)\n",
      " |-- Country/Region: string (nullable = true)\n",
      " |-- Lat: double (nullable = true)\n",
      " |-- Long: double (nullable = true)\n",
      " |-- Date: date (nullable = true)\n",
      " |-- Confirmed: integer (nullable = true)\n",
      " |-- Deaths: integer (nullable = true)\n",
      " |-- Recovered: integer (nullable = true)\n",
      " |-- Active: integer (nullable = true)\n",
      " |-- WHO Region: string (nullable = true)\n",
      "\n"
     ]
    }
   ],
   "source": [
    "#To see the datatype of each column in the dataset\n",
    "df_pyspark.printSchema()"
   ]
  },
  {
   "cell_type": "code",
   "execution_count": 4,
   "id": "d4562497",
   "metadata": {},
   "outputs": [
    {
     "name": "stdout",
     "output_type": "stream",
     "text": [
      "root\n",
      " |-- Province/State: string (nullable = true)\n",
      " |-- Country/Region: string (nullable = true)\n",
      " |-- Lat: double (nullable = true)\n",
      " |-- Long: double (nullable = true)\n",
      " |-- Date: date (nullable = true)\n",
      " |-- Confirmed: integer (nullable = true)\n",
      " |-- Deaths: integer (nullable = true)\n",
      " |-- Recovered: integer (nullable = true)\n",
      " |-- Active: integer (nullable = true)\n",
      " |-- WHO Region: string (nullable = true)\n",
      "\n"
     ]
    }
   ],
   "source": [
    "#reading the dataset with inferSchema() - This will convert into required datatype\n",
    "pyspark_df = spark.read.csv('covid_data.csv',header=True,inferSchema=True)\n",
    "df_pyspark.printSchema()"
   ]
  },
  {
   "cell_type": "code",
   "execution_count": 5,
   "id": "8bcd5592",
   "metadata": {},
   "outputs": [
    {
     "data": {
      "text/plain": [
       "pyspark.sql.dataframe.DataFrame"
      ]
     },
     "execution_count": 5,
     "metadata": {},
     "output_type": "execute_result"
    }
   ],
   "source": [
    "# it will print the datatype o the schema\n",
    "type(df_pyspark)"
   ]
  },
  {
   "cell_type": "code",
   "execution_count": 6,
   "id": "276d12d1",
   "metadata": {},
   "outputs": [
    {
     "name": "stdout",
     "output_type": "stream",
     "text": [
      "+--------------------+\n",
      "|          WHO Region|\n",
      "+--------------------+\n",
      "|Eastern Mediterra...|\n",
      "|              Europe|\n",
      "|              Africa|\n",
      "|              Europe|\n",
      "|              Africa|\n",
      "|            Americas|\n",
      "|            Americas|\n",
      "|              Europe|\n",
      "|     Western Pacific|\n",
      "|     Western Pacific|\n",
      "|     Western Pacific|\n",
      "|     Western Pacific|\n",
      "|     Western Pacific|\n",
      "|     Western Pacific|\n",
      "|     Western Pacific|\n",
      "|     Western Pacific|\n",
      "|              Europe|\n",
      "|              Europe|\n",
      "|            Americas|\n",
      "|Eastern Mediterra...|\n",
      "+--------------------+\n",
      "only showing top 20 rows\n",
      "\n"
     ]
    }
   ],
   "source": [
    "#to print specific columns of the dataset\n",
    "df_pyspark.select('WHO Region').show()"
   ]
  },
  {
   "cell_type": "code",
   "execution_count": 7,
   "id": "6460ccfd",
   "metadata": {},
   "outputs": [
    {
     "data": {
      "text/plain": [
       "['Province/State',\n",
       " 'Country/Region',\n",
       " 'Lat',\n",
       " 'Long',\n",
       " 'Date',\n",
       " 'Confirmed',\n",
       " 'Deaths',\n",
       " 'Recovered',\n",
       " 'Active',\n",
       " 'WHO Region']"
      ]
     },
     "execution_count": 7,
     "metadata": {},
     "output_type": "execute_result"
    }
   ],
   "source": [
    "#to print the column names\n",
    "df_pyspark.columns"
   ]
  },
  {
   "cell_type": "code",
   "execution_count": 8,
   "id": "5ee2654b",
   "metadata": {},
   "outputs": [
    {
     "data": {
      "text/plain": [
       "[Row(Province/State=None, Country/Region='Afghanistan', Lat=33.93911, Long=67.709953, Date=datetime.date(2020, 1, 22), Confirmed=0, Deaths=0, Recovered=0, Active=0, WHO Region='Eastern Mediterranean'),\n",
       " Row(Province/State=None, Country/Region='Albania', Lat=41.1533, Long=20.1683, Date=datetime.date(2020, 1, 22), Confirmed=0, Deaths=0, Recovered=0, Active=0, WHO Region='Europe'),\n",
       " Row(Province/State=None, Country/Region='Algeria', Lat=28.0339, Long=1.6596, Date=datetime.date(2020, 1, 22), Confirmed=0, Deaths=0, Recovered=0, Active=0, WHO Region='Africa')]"
      ]
     },
     "execution_count": 8,
     "metadata": {},
     "output_type": "execute_result"
    }
   ],
   "source": [
    "#to print the top 3 rows of the dataset\n",
    "df_pyspark.head(3)"
   ]
  },
  {
   "cell_type": "code",
   "execution_count": 9,
   "id": "8c4de12f",
   "metadata": {},
   "outputs": [
    {
     "data": {
      "text/plain": [
       "[('Province/State', 'string'),\n",
       " ('Country/Region', 'string'),\n",
       " ('Lat', 'double'),\n",
       " ('Long', 'double'),\n",
       " ('Date', 'date'),\n",
       " ('Confirmed', 'int'),\n",
       " ('Deaths', 'int'),\n",
       " ('Recovered', 'int'),\n",
       " ('Active', 'int'),\n",
       " ('WHO Region', 'string')]"
      ]
     },
     "execution_count": 9,
     "metadata": {},
     "output_type": "execute_result"
    }
   ],
   "source": [
    "#to print the columns and their data types\n",
    "df_pyspark.dtypes"
   ]
  },
  {
   "cell_type": "code",
   "execution_count": 10,
   "id": "a06c2ee6",
   "metadata": {},
   "outputs": [
    {
     "name": "stdout",
     "output_type": "stream",
     "text": [
      "+-------+--------------+--------------+------------------+------------------+------------------+-----------------+-----------------+-----------------+---------------+\n",
      "|summary|Province/State|Country/Region|               Lat|              Long|         Confirmed|           Deaths|        Recovered|           Active|     WHO Region|\n",
      "+-------+--------------+--------------+------------------+------------------+------------------+-----------------+-----------------+-----------------+---------------+\n",
      "|  count|         14664|         49068|             49068|             49068|             49068|            49068|            49068|            49068|          49068|\n",
      "|   mean|          NULL|          NULL|21.433730459769688|23.528236452106245| 16884.90425531915|884.1791595337083|7915.713479253282| 8085.01161653216|           NULL|\n",
      "| stddev|          NULL|          NULL| 24.95031982606509|  70.4427397445028|127300.20527228026|6313.584410596534|54800.91873054013|76258.90302550694|           NULL|\n",
      "|    min|       Alberta|   Afghanistan|          -51.7963|            -135.0|                 0|                0|                0|              -14|         Africa|\n",
      "|    max|      Zhejiang|      Zimbabwe|           71.7069|           178.065|           4290259|           148011|          1846641|          2816444|Western Pacific|\n",
      "+-------+--------------+--------------+------------------+------------------+------------------+-----------------+-----------------+-----------------+---------------+\n",
      "\n"
     ]
    }
   ],
   "source": [
    "#to print the summary of the dataset\n",
    "df_pyspark.describe().show()"
   ]
  },
  {
   "cell_type": "code",
   "execution_count": 11,
   "id": "ea7260fc",
   "metadata": {},
   "outputs": [
    {
     "name": "stdout",
     "output_type": "stream",
     "text": [
      "+--------------------+-------------------+---------+----------+----------+---------+------+---------+------+--------------------+----------------------------+\n",
      "|      Province/State|     Country/Region|      Lat|      Long|      Date|Confirmed|Deaths|Recovered|Active|          WHO Region|Confirmed Cases after 2 days|\n",
      "+--------------------+-------------------+---------+----------+----------+---------+------+---------+------+--------------------+----------------------------+\n",
      "|                NULL|        Afghanistan| 33.93911| 67.709953|2020-01-22|        0|     0|        0|     0|Eastern Mediterra...|                           2|\n",
      "|                NULL|            Albania|  41.1533|   20.1683|2020-01-22|        0|     0|        0|     0|              Europe|                           2|\n",
      "|                NULL|            Algeria|  28.0339|    1.6596|2020-01-22|        0|     0|        0|     0|              Africa|                           2|\n",
      "|                NULL|            Andorra|  42.5063|    1.5218|2020-01-22|        0|     0|        0|     0|              Europe|                           2|\n",
      "|                NULL|             Angola| -11.2027|   17.8739|2020-01-22|        0|     0|        0|     0|              Africa|                           2|\n",
      "|                NULL|Antigua and Barbuda|  17.0608|  -61.7964|2020-01-22|        0|     0|        0|     0|            Americas|                           2|\n",
      "|                NULL|          Argentina| -38.4161|  -63.6167|2020-01-22|        0|     0|        0|     0|            Americas|                           2|\n",
      "|                NULL|            Armenia|  40.0691|   45.0382|2020-01-22|        0|     0|        0|     0|              Europe|                           2|\n",
      "|Australian Capita...|          Australia| -35.4735|  149.0124|2020-01-22|        0|     0|        0|     0|     Western Pacific|                           2|\n",
      "|     New South Wales|          Australia| -33.8688|  151.2093|2020-01-22|        0|     0|        0|     0|     Western Pacific|                           2|\n",
      "|  Northern Territory|          Australia| -12.4634|  130.8456|2020-01-22|        0|     0|        0|     0|     Western Pacific|                           2|\n",
      "|          Queensland|          Australia| -27.4698|  153.0251|2020-01-22|        0|     0|        0|     0|     Western Pacific|                           2|\n",
      "|     South Australia|          Australia| -34.9285|  138.6007|2020-01-22|        0|     0|        0|     0|     Western Pacific|                           2|\n",
      "|            Tasmania|          Australia| -42.8821|  147.3272|2020-01-22|        0|     0|        0|     0|     Western Pacific|                           2|\n",
      "|            Victoria|          Australia| -37.8136|  144.9631|2020-01-22|        0|     0|        0|     0|     Western Pacific|                           2|\n",
      "|   Western Australia|          Australia| -31.9505|  115.8605|2020-01-22|        0|     0|        0|     0|     Western Pacific|                           2|\n",
      "|                NULL|            Austria|  47.5162|   14.5501|2020-01-22|        0|     0|        0|     0|              Europe|                           2|\n",
      "|                NULL|         Azerbaijan|  40.1431|   47.5769|2020-01-22|        0|     0|        0|     0|              Europe|                           2|\n",
      "|                NULL|            Bahamas|25.025885|-78.035889|2020-01-22|        0|     0|        0|     0|            Americas|                           2|\n",
      "|                NULL|            Bahrain|  26.0275|     50.55|2020-01-22|        0|     0|        0|     0|Eastern Mediterra...|                           2|\n",
      "+--------------------+-------------------+---------+----------+----------+---------+------+---------+------+--------------------+----------------------------+\n",
      "only showing top 20 rows\n",
      "\n"
     ]
    }
   ],
   "source": [
    "#Adding columns in the dataframe\n",
    "df_pyspark.withColumn('Confirmed Cases after 2 days',df_pyspark['Confirmed']+2).show()"
   ]
  },
  {
   "cell_type": "code",
   "execution_count": 12,
   "id": "7a4ebb1b",
   "metadata": {},
   "outputs": [
    {
     "name": "stdout",
     "output_type": "stream",
     "text": [
      "+--------------------+-------------------+---------+----------+----------+---------+------+---------+------+--------------------+\n",
      "|      Province/State|            Country|      Lat|      Long|      Date|Confirmed|Deaths|Recovered|Active|          WHO Region|\n",
      "+--------------------+-------------------+---------+----------+----------+---------+------+---------+------+--------------------+\n",
      "|                NULL|        Afghanistan| 33.93911| 67.709953|2020-01-22|        0|     0|        0|     0|Eastern Mediterra...|\n",
      "|                NULL|            Albania|  41.1533|   20.1683|2020-01-22|        0|     0|        0|     0|              Europe|\n",
      "|                NULL|            Algeria|  28.0339|    1.6596|2020-01-22|        0|     0|        0|     0|              Africa|\n",
      "|                NULL|            Andorra|  42.5063|    1.5218|2020-01-22|        0|     0|        0|     0|              Europe|\n",
      "|                NULL|             Angola| -11.2027|   17.8739|2020-01-22|        0|     0|        0|     0|              Africa|\n",
      "|                NULL|Antigua and Barbuda|  17.0608|  -61.7964|2020-01-22|        0|     0|        0|     0|            Americas|\n",
      "|                NULL|          Argentina| -38.4161|  -63.6167|2020-01-22|        0|     0|        0|     0|            Americas|\n",
      "|                NULL|            Armenia|  40.0691|   45.0382|2020-01-22|        0|     0|        0|     0|              Europe|\n",
      "|Australian Capita...|          Australia| -35.4735|  149.0124|2020-01-22|        0|     0|        0|     0|     Western Pacific|\n",
      "|     New South Wales|          Australia| -33.8688|  151.2093|2020-01-22|        0|     0|        0|     0|     Western Pacific|\n",
      "|  Northern Territory|          Australia| -12.4634|  130.8456|2020-01-22|        0|     0|        0|     0|     Western Pacific|\n",
      "|          Queensland|          Australia| -27.4698|  153.0251|2020-01-22|        0|     0|        0|     0|     Western Pacific|\n",
      "|     South Australia|          Australia| -34.9285|  138.6007|2020-01-22|        0|     0|        0|     0|     Western Pacific|\n",
      "|            Tasmania|          Australia| -42.8821|  147.3272|2020-01-22|        0|     0|        0|     0|     Western Pacific|\n",
      "|            Victoria|          Australia| -37.8136|  144.9631|2020-01-22|        0|     0|        0|     0|     Western Pacific|\n",
      "|   Western Australia|          Australia| -31.9505|  115.8605|2020-01-22|        0|     0|        0|     0|     Western Pacific|\n",
      "|                NULL|            Austria|  47.5162|   14.5501|2020-01-22|        0|     0|        0|     0|              Europe|\n",
      "|                NULL|         Azerbaijan|  40.1431|   47.5769|2020-01-22|        0|     0|        0|     0|              Europe|\n",
      "|                NULL|            Bahamas|25.025885|-78.035889|2020-01-22|        0|     0|        0|     0|            Americas|\n",
      "|                NULL|            Bahrain|  26.0275|     50.55|2020-01-22|        0|     0|        0|     0|Eastern Mediterra...|\n",
      "+--------------------+-------------------+---------+----------+----------+---------+------+---------+------+--------------------+\n",
      "only showing top 20 rows\n",
      "\n"
     ]
    }
   ],
   "source": [
    "df_pyspark.withColumnRenamed('Country/Region','Country').show()"
   ]
  },
  {
   "cell_type": "code",
   "execution_count": 13,
   "id": "7ba27c59",
   "metadata": {},
   "outputs": [
    {
     "name": "stdout",
     "output_type": "stream",
     "text": [
      "+--------------------+--------------+------------------+---------+----------+---------+------+---------+------+---------------+\n",
      "|      Province/State|Country/Region|               Lat|     Long|      Date|Confirmed|Deaths|Recovered|Active|     WHO Region|\n",
      "+--------------------+--------------+------------------+---------+----------+---------+------+---------+------+---------------+\n",
      "|Australian Capita...|     Australia|          -35.4735| 149.0124|2020-01-22|        0|     0|        0|     0|Western Pacific|\n",
      "|     New South Wales|     Australia|          -33.8688| 151.2093|2020-01-22|        0|     0|        0|     0|Western Pacific|\n",
      "|  Northern Territory|     Australia|          -12.4634| 130.8456|2020-01-22|        0|     0|        0|     0|Western Pacific|\n",
      "|          Queensland|     Australia|          -27.4698| 153.0251|2020-01-22|        0|     0|        0|     0|Western Pacific|\n",
      "|     South Australia|     Australia|          -34.9285| 138.6007|2020-01-22|        0|     0|        0|     0|Western Pacific|\n",
      "|            Tasmania|     Australia|          -42.8821| 147.3272|2020-01-22|        0|     0|        0|     0|Western Pacific|\n",
      "|            Victoria|     Australia|          -37.8136| 144.9631|2020-01-22|        0|     0|        0|     0|Western Pacific|\n",
      "|   Western Australia|     Australia|          -31.9505| 115.8605|2020-01-22|        0|     0|        0|     0|Western Pacific|\n",
      "|             Alberta|        Canada|           53.9333|-116.5765|2020-01-22|        0|     0|        0|     0|       Americas|\n",
      "|    British Columbia|        Canada|           53.7267|-127.6476|2020-01-22|        0|     0|        0|     0|       Americas|\n",
      "|            Manitoba|        Canada|           53.7609| -98.8139|2020-01-22|        0|     0|        0|     0|       Americas|\n",
      "|       New Brunswick|        Canada|           46.5653| -66.4619|2020-01-22|        0|     0|        0|     0|       Americas|\n",
      "|Newfoundland and ...|        Canada|           53.1355| -57.6604|2020-01-22|        0|     0|        0|     0|       Americas|\n",
      "|         Nova Scotia|        Canada|44.681999999999995| -63.7443|2020-01-22|        0|     0|        0|     0|       Americas|\n",
      "|             Ontario|        Canada|           51.2538| -85.3232|2020-01-22|        0|     0|        0|     0|       Americas|\n",
      "|Prince Edward Island|        Canada|           46.5107| -63.4168|2020-01-22|        0|     0|        0|     0|       Americas|\n",
      "|              Quebec|        Canada|           52.9399| -73.5491|2020-01-22|        0|     0|        0|     0|       Americas|\n",
      "|        Saskatchewan|        Canada|           52.9399|-106.4509|2020-01-22|        0|     0|        0|     0|       Americas|\n",
      "|               Anhui|         China|           31.8257| 117.2264|2020-01-22|        1|     0|        0|     1|Western Pacific|\n",
      "|             Beijing|         China|           40.1824| 116.4142|2020-01-22|       14|     0|        0|    14|Western Pacific|\n",
      "+--------------------+--------------+------------------+---------+----------+---------+------+---------+------+---------------+\n",
      "only showing top 20 rows\n",
      "\n"
     ]
    }
   ],
   "source": [
    "df = df_pyspark.na.drop(how='any',thresh=10)\n",
    "df.show()"
   ]
  },
  {
   "cell_type": "code",
   "execution_count": 14,
   "id": "b4e19356",
   "metadata": {},
   "outputs": [
    {
     "name": "stdout",
     "output_type": "stream",
     "text": [
      "+--------------------+--------------+------------------+---------+----------+---------+------+---------+------+---------------+\n",
      "|      Province/State|Country/Region|               Lat|     Long|      Date|Confirmed|Deaths|Recovered|Active|     WHO Region|\n",
      "+--------------------+--------------+------------------+---------+----------+---------+------+---------+------+---------------+\n",
      "|Australian Capita...|     Australia|          -35.4735| 149.0124|2020-01-22|        0|     0|        0|     0|Western Pacific|\n",
      "|     New South Wales|     Australia|          -33.8688| 151.2093|2020-01-22|        0|     0|        0|     0|Western Pacific|\n",
      "|  Northern Territory|     Australia|          -12.4634| 130.8456|2020-01-22|        0|     0|        0|     0|Western Pacific|\n",
      "|          Queensland|     Australia|          -27.4698| 153.0251|2020-01-22|        0|     0|        0|     0|Western Pacific|\n",
      "|     South Australia|     Australia|          -34.9285| 138.6007|2020-01-22|        0|     0|        0|     0|Western Pacific|\n",
      "|            Tasmania|     Australia|          -42.8821| 147.3272|2020-01-22|        0|     0|        0|     0|Western Pacific|\n",
      "|            Victoria|     Australia|          -37.8136| 144.9631|2020-01-22|        0|     0|        0|     0|Western Pacific|\n",
      "|   Western Australia|     Australia|          -31.9505| 115.8605|2020-01-22|        0|     0|        0|     0|Western Pacific|\n",
      "|             Alberta|        Canada|           53.9333|-116.5765|2020-01-22|        0|     0|        0|     0|       Americas|\n",
      "|    British Columbia|        Canada|           53.7267|-127.6476|2020-01-22|        0|     0|        0|     0|       Americas|\n",
      "|            Manitoba|        Canada|           53.7609| -98.8139|2020-01-22|        0|     0|        0|     0|       Americas|\n",
      "|       New Brunswick|        Canada|           46.5653| -66.4619|2020-01-22|        0|     0|        0|     0|       Americas|\n",
      "|Newfoundland and ...|        Canada|           53.1355| -57.6604|2020-01-22|        0|     0|        0|     0|       Americas|\n",
      "|         Nova Scotia|        Canada|44.681999999999995| -63.7443|2020-01-22|        0|     0|        0|     0|       Americas|\n",
      "|             Ontario|        Canada|           51.2538| -85.3232|2020-01-22|        0|     0|        0|     0|       Americas|\n",
      "|Prince Edward Island|        Canada|           46.5107| -63.4168|2020-01-22|        0|     0|        0|     0|       Americas|\n",
      "|              Quebec|        Canada|           52.9399| -73.5491|2020-01-22|        0|     0|        0|     0|       Americas|\n",
      "|        Saskatchewan|        Canada|           52.9399|-106.4509|2020-01-22|        0|     0|        0|     0|       Americas|\n",
      "|               Anhui|         China|           31.8257| 117.2264|2020-01-22|        1|     0|        0|     1|Western Pacific|\n",
      "|             Beijing|         China|           40.1824| 116.4142|2020-01-22|       14|     0|        0|    14|Western Pacific|\n",
      "+--------------------+--------------+------------------+---------+----------+---------+------+---------+------+---------------+\n",
      "only showing top 20 rows\n",
      "\n"
     ]
    }
   ],
   "source": [
    "# if there is a null value in that particular column then whole record will be deleted\n",
    "df_pyspark.na.drop(how='any',subset=['Province/State']).show()"
   ]
  },
  {
   "cell_type": "code",
   "execution_count": 15,
   "id": "b6026b83",
   "metadata": {},
   "outputs": [
    {
     "name": "stdout",
     "output_type": "stream",
     "text": [
      "+--------------------+-------------------+---------+----------+----------+---------+------+---------+------+--------------------+\n",
      "|      Province/State|     Country/Region|      Lat|      Long|      Date|Confirmed|Deaths|Recovered|Active|          WHO Region|\n",
      "+--------------------+-------------------+---------+----------+----------+---------+------+---------+------+--------------------+\n",
      "|                   0|        Afghanistan| 33.93911| 67.709953|2020-01-22|        0|     0|        0|     0|Eastern Mediterra...|\n",
      "|                   0|            Albania|  41.1533|   20.1683|2020-01-22|        0|     0|        0|     0|              Europe|\n",
      "|                   0|            Algeria|  28.0339|    1.6596|2020-01-22|        0|     0|        0|     0|              Africa|\n",
      "|                   0|            Andorra|  42.5063|    1.5218|2020-01-22|        0|     0|        0|     0|              Europe|\n",
      "|                   0|             Angola| -11.2027|   17.8739|2020-01-22|        0|     0|        0|     0|              Africa|\n",
      "|                   0|Antigua and Barbuda|  17.0608|  -61.7964|2020-01-22|        0|     0|        0|     0|            Americas|\n",
      "|                   0|          Argentina| -38.4161|  -63.6167|2020-01-22|        0|     0|        0|     0|            Americas|\n",
      "|                   0|            Armenia|  40.0691|   45.0382|2020-01-22|        0|     0|        0|     0|              Europe|\n",
      "|Australian Capita...|          Australia| -35.4735|  149.0124|2020-01-22|        0|     0|        0|     0|     Western Pacific|\n",
      "|     New South Wales|          Australia| -33.8688|  151.2093|2020-01-22|        0|     0|        0|     0|     Western Pacific|\n",
      "|  Northern Territory|          Australia| -12.4634|  130.8456|2020-01-22|        0|     0|        0|     0|     Western Pacific|\n",
      "|          Queensland|          Australia| -27.4698|  153.0251|2020-01-22|        0|     0|        0|     0|     Western Pacific|\n",
      "|     South Australia|          Australia| -34.9285|  138.6007|2020-01-22|        0|     0|        0|     0|     Western Pacific|\n",
      "|            Tasmania|          Australia| -42.8821|  147.3272|2020-01-22|        0|     0|        0|     0|     Western Pacific|\n",
      "|            Victoria|          Australia| -37.8136|  144.9631|2020-01-22|        0|     0|        0|     0|     Western Pacific|\n",
      "|   Western Australia|          Australia| -31.9505|  115.8605|2020-01-22|        0|     0|        0|     0|     Western Pacific|\n",
      "|                   0|            Austria|  47.5162|   14.5501|2020-01-22|        0|     0|        0|     0|              Europe|\n",
      "|                   0|         Azerbaijan|  40.1431|   47.5769|2020-01-22|        0|     0|        0|     0|              Europe|\n",
      "|                   0|            Bahamas|25.025885|-78.035889|2020-01-22|        0|     0|        0|     0|            Americas|\n",
      "|                   0|            Bahrain|  26.0275|     50.55|2020-01-22|        0|     0|        0|     0|Eastern Mediterra...|\n",
      "+--------------------+-------------------+---------+----------+----------+---------+------+---------+------+--------------------+\n",
      "only showing top 20 rows\n",
      "\n"
     ]
    }
   ],
   "source": [
    "#filling the missing values\n",
    "#where specific columns having null values will be filled with 0\n",
    "df_pyspark.na.fill('0','Province/State').show()"
   ]
  },
  {
   "cell_type": "code",
   "execution_count": 16,
   "id": "cbf71f4c",
   "metadata": {},
   "outputs": [
    {
     "name": "stdout",
     "output_type": "stream",
     "text": [
      "root\n",
      " |-- Province/State: string (nullable = true)\n",
      " |-- Country/Region: string (nullable = true)\n",
      " |-- Lat: double (nullable = true)\n",
      " |-- Long: double (nullable = true)\n",
      " |-- Date: date (nullable = true)\n",
      " |-- Confirmed: integer (nullable = true)\n",
      " |-- Deaths: integer (nullable = true)\n",
      " |-- Recovered: integer (nullable = true)\n",
      " |-- Active: integer (nullable = true)\n",
      " |-- WHO Region: string (nullable = true)\n",
      "\n"
     ]
    }
   ],
   "source": [
    "df_pyspark.printSchema()"
   ]
  },
  {
   "cell_type": "code",
   "execution_count": 17,
   "id": "3e222535",
   "metadata": {},
   "outputs": [],
   "source": [
    "#to convert the columns into desired datatypes\n",
    "from pyspark.sql.functions import col\n",
    "\n",
    "df_pyspark = df_pyspark.withColumn(\"confirmed\", col(\"confirmed\").cast(\"double\")) \\\n",
    "                       .withColumn(\"deaths\", col(\"deaths\").cast(\"double\")) \\\n",
    "                       .withColumn(\"recovered\", col(\"recovered\").cast(\"double\"))\n"
   ]
  },
  {
   "cell_type": "code",
   "execution_count": 18,
   "id": "564217cc",
   "metadata": {},
   "outputs": [
    {
     "name": "stdout",
     "output_type": "stream",
     "text": [
      "+--------------------+-------------------+---------+----------+----------+---------+------+---------+------+--------------------+-----------------+--------------+-----------------+\n",
      "|      Province/State|     Country/Region|      Lat|      Long|      Date|confirmed|deaths|recovered|Active|          WHO Region|confirmed imputed|deaths imputed|recovered imputed|\n",
      "+--------------------+-------------------+---------+----------+----------+---------+------+---------+------+--------------------+-----------------+--------------+-----------------+\n",
      "|                NULL|        Afghanistan| 33.93911| 67.709953|2020-01-22|      0.0|   0.0|      0.0|     0|Eastern Mediterra...|              0.0|           0.0|              0.0|\n",
      "|                NULL|            Albania|  41.1533|   20.1683|2020-01-22|      0.0|   0.0|      0.0|     0|              Europe|              0.0|           0.0|              0.0|\n",
      "|                NULL|            Algeria|  28.0339|    1.6596|2020-01-22|      0.0|   0.0|      0.0|     0|              Africa|              0.0|           0.0|              0.0|\n",
      "|                NULL|            Andorra|  42.5063|    1.5218|2020-01-22|      0.0|   0.0|      0.0|     0|              Europe|              0.0|           0.0|              0.0|\n",
      "|                NULL|             Angola| -11.2027|   17.8739|2020-01-22|      0.0|   0.0|      0.0|     0|              Africa|              0.0|           0.0|              0.0|\n",
      "|                NULL|Antigua and Barbuda|  17.0608|  -61.7964|2020-01-22|      0.0|   0.0|      0.0|     0|            Americas|              0.0|           0.0|              0.0|\n",
      "|                NULL|          Argentina| -38.4161|  -63.6167|2020-01-22|      0.0|   0.0|      0.0|     0|            Americas|              0.0|           0.0|              0.0|\n",
      "|                NULL|            Armenia|  40.0691|   45.0382|2020-01-22|      0.0|   0.0|      0.0|     0|              Europe|              0.0|           0.0|              0.0|\n",
      "|Australian Capita...|          Australia| -35.4735|  149.0124|2020-01-22|      0.0|   0.0|      0.0|     0|     Western Pacific|              0.0|           0.0|              0.0|\n",
      "|     New South Wales|          Australia| -33.8688|  151.2093|2020-01-22|      0.0|   0.0|      0.0|     0|     Western Pacific|              0.0|           0.0|              0.0|\n",
      "|  Northern Territory|          Australia| -12.4634|  130.8456|2020-01-22|      0.0|   0.0|      0.0|     0|     Western Pacific|              0.0|           0.0|              0.0|\n",
      "|          Queensland|          Australia| -27.4698|  153.0251|2020-01-22|      0.0|   0.0|      0.0|     0|     Western Pacific|              0.0|           0.0|              0.0|\n",
      "|     South Australia|          Australia| -34.9285|  138.6007|2020-01-22|      0.0|   0.0|      0.0|     0|     Western Pacific|              0.0|           0.0|              0.0|\n",
      "|            Tasmania|          Australia| -42.8821|  147.3272|2020-01-22|      0.0|   0.0|      0.0|     0|     Western Pacific|              0.0|           0.0|              0.0|\n",
      "|            Victoria|          Australia| -37.8136|  144.9631|2020-01-22|      0.0|   0.0|      0.0|     0|     Western Pacific|              0.0|           0.0|              0.0|\n",
      "|   Western Australia|          Australia| -31.9505|  115.8605|2020-01-22|      0.0|   0.0|      0.0|     0|     Western Pacific|              0.0|           0.0|              0.0|\n",
      "|                NULL|            Austria|  47.5162|   14.5501|2020-01-22|      0.0|   0.0|      0.0|     0|              Europe|              0.0|           0.0|              0.0|\n",
      "|                NULL|         Azerbaijan|  40.1431|   47.5769|2020-01-22|      0.0|   0.0|      0.0|     0|              Europe|              0.0|           0.0|              0.0|\n",
      "|                NULL|            Bahamas|25.025885|-78.035889|2020-01-22|      0.0|   0.0|      0.0|     0|            Americas|              0.0|           0.0|              0.0|\n",
      "|                NULL|            Bahrain|  26.0275|     50.55|2020-01-22|      0.0|   0.0|      0.0|     0|Eastern Mediterra...|              0.0|           0.0|              0.0|\n",
      "+--------------------+-------------------+---------+----------+----------+---------+------+---------+------+--------------------+-----------------+--------------+-----------------+\n",
      "only showing top 20 rows\n",
      "\n"
     ]
    }
   ],
   "source": [
    "from pyspark.ml.feature import Imputer\n",
    "\n",
    "imputer = Imputer(\n",
    "    inputCols=['confirmed', 'deaths', 'recovered'],\n",
    "    outputCols=[\"{} imputed\".format(c) for c in ['confirmed', 'deaths', 'recovered']]\n",
    ").setStrategy('mean')\n",
    "\n",
    "imputer.fit(df_pyspark).transform(df_pyspark).show()\n"
   ]
  },
  {
   "cell_type": "code",
   "execution_count": 19,
   "id": "1e876537",
   "metadata": {},
   "outputs": [
    {
     "name": "stdout",
     "output_type": "stream",
     "text": [
      "+-------------------+---------+------+---------+------+---------+----------+-------------+------------------+---------------------+----------------------+-------------------+-------------+-----------------+--------------------+\n",
      "|     Country/Region|Confirmed|Deaths|Recovered|Active|New cases|New deaths|New recovered|Deaths / 100 Cases|Recovered / 100 Cases|Deaths / 100 Recovered|Confirmed last week|1 week change|1 week % increase|          WHO Region|\n",
      "+-------------------+---------+------+---------+------+---------+----------+-------------+------------------+---------------------+----------------------+-------------------+-------------+-----------------+--------------------+\n",
      "|        Afghanistan|    36263|  1269|    25198|  9796|      106|        10|           18|               3.5|                69.49|                  5.04|              35526|          737|             2.07|Eastern Mediterra...|\n",
      "|            Albania|     4880|   144|     2745|  1991|      117|         6|           63|              2.95|                56.25|                  5.25|               4171|          709|             17.0|              Europe|\n",
      "|            Algeria|    27973|  1163|    18837|  7973|      616|         8|          749|              4.16|                67.34|                  6.17|              23691|         4282|            18.07|              Africa|\n",
      "|            Andorra|      907|    52|      803|    52|       10|         0|            0|              5.73|                88.53|                  6.48|                884|           23|              2.6|              Europe|\n",
      "|             Angola|      950|    41|      242|   667|       18|         1|            0|              4.32|                25.47|                 16.94|                749|          201|            26.84|              Africa|\n",
      "|Antigua and Barbuda|       86|     3|       65|    18|        4|         0|            5|              3.49|                75.58|                  4.62|                 76|           10|            13.16|            Americas|\n",
      "|          Argentina|   167416|  3059|    72575| 91782|     4890|       120|         2057|              1.83|                43.35|                  4.21|             130774|        36642|            28.02|            Americas|\n",
      "|            Armenia|    37390|   711|    26665| 10014|       73|         6|          187|               1.9|                71.32|                  2.67|              34981|         2409|             6.89|              Europe|\n",
      "|          Australia|    15303|   167|     9311|  5825|      368|         6|          137|              1.09|                60.84|                  1.79|              12428|         2875|            23.13|     Western Pacific|\n",
      "|            Austria|    20558|   713|    18246|  1599|       86|         1|           37|              3.47|                88.75|                  3.91|              19743|          815|             4.13|              Europe|\n",
      "|         Azerbaijan|    30446|   423|    23242|  6781|      396|         6|          558|              1.39|                76.34|                  1.82|              27890|         2556|             9.16|              Europe|\n",
      "|            Bahamas|      382|    11|       91|   280|       40|         0|            0|              2.88|                23.82|                 12.09|                174|          208|           119.54|            Americas|\n",
      "|            Bahrain|    39482|   141|    36110|  3231|      351|         1|          421|              0.36|                91.46|                  0.39|              36936|         2546|             6.89|Eastern Mediterra...|\n",
      "|         Bangladesh|   226225|  2965|   125683| 97577|     2772|        37|         1801|              1.31|                55.56|                  2.36|             207453|        18772|             9.05|     South-East Asia|\n",
      "|           Barbados|      110|     7|       94|     9|        0|         0|            0|              6.36|                85.45|                  7.45|                106|            4|             3.77|            Americas|\n",
      "|            Belarus|    67251|   538|    60492|  6221|      119|         4|           67|               0.8|                89.95|                  0.89|              66213|         1038|             1.57|              Europe|\n",
      "|            Belgium|    66428|  9822|    17452| 39154|      402|         1|           14|             14.79|                26.27|                 56.28|              64094|         2334|             3.64|              Europe|\n",
      "|             Belize|       48|     2|       26|    20|        0|         0|            0|              4.17|                54.17|                  7.69|                 40|            8|             20.0|            Americas|\n",
      "|              Benin|     1770|    35|     1036|   699|        0|         0|            0|              1.98|                58.53|                  3.38|               1602|          168|            10.49|              Africa|\n",
      "|             Bhutan|       99|     0|       86|    13|        4|         0|            1|               0.0|                86.87|                   0.0|                 90|            9|             10.0|     South-East Asia|\n",
      "+-------------------+---------+------+---------+------+---------+----------+-------------+------------------+---------------------+----------------------+-------------------+-------------+-----------------+--------------------+\n",
      "only showing top 20 rows\n",
      "\n"
     ]
    }
   ],
   "source": [
    "from pyspark.sql import SparkSession\n",
    "spark = SparkSession.builder.appName('dataframe').getOrCreate()\n",
    "df = spark.read.csv('country_wise.csv',header=True,inferSchema=True)\n",
    "df.show()"
   ]
  },
  {
   "cell_type": "code",
   "execution_count": 20,
   "id": "3f97fda6",
   "metadata": {},
   "outputs": [
    {
     "name": "stdout",
     "output_type": "stream",
     "text": [
      "+--------------+---------+------+---------+-------+---------+----------+-------------+------------------+---------------------+----------------------+-------------------+-------------+-----------------+---------------+\n",
      "|Country/Region|Confirmed|Deaths|Recovered| Active|New cases|New deaths|New recovered|Deaths / 100 Cases|Recovered / 100 Cases|Deaths / 100 Recovered|Confirmed last week|1 week change|1 week % increase|     WHO Region|\n",
      "+--------------+---------+------+---------+-------+---------+----------+-------------+------------------+---------------------+----------------------+-------------------+-------------+-----------------+---------------+\n",
      "|        Brazil|  2442375| 87618|  1846641| 508116|    23284|       614|        33728|              3.59|                75.61|                  4.74|            2118646|       323729|            15.28|       Americas|\n",
      "|         India|  1480073| 33408|   951166| 495499|    44457|       637|        33598|              2.26|                64.26|                  3.51|            1155338|       324735|            28.11|South-East Asia|\n",
      "|            US|  4290259|148011|  1325804|2816444|    56336|      1076|        27941|              3.45|                 30.9|                 11.16|            3834677|       455582|            11.88|       Americas|\n",
      "+--------------+---------+------+---------+-------+---------+----------+-------------+------------------+---------------------+----------------------+-------------------+-------------+-----------------+---------------+\n",
      "\n"
     ]
    }
   ],
   "source": [
    "#Filter Operations\n",
    "#Countries where confirmed cases are greater than or equal to 1000000\n",
    "df.filter(\"Confirmed>=1000000\").show()"
   ]
  },
  {
   "cell_type": "code",
   "execution_count": 21,
   "id": "2f4e2da7",
   "metadata": {},
   "outputs": [
    {
     "name": "stdout",
     "output_type": "stream",
     "text": [
      "+--------------+------+---------+-------------+\n",
      "|Country/Region|Deaths|Confirmed|New Recovered|\n",
      "+--------------+------+---------+-------------+\n",
      "|        Brazil| 87618|  2442375|        33728|\n",
      "|         India| 33408|  1480073|        33598|\n",
      "|            US|148011|  4290259|        27941|\n",
      "+--------------+------+---------+-------------+\n",
      "\n"
     ]
    }
   ],
   "source": [
    "#To select specific rows after applying the filter like in this case we selected Country,Deaths,Confirmed,New Recovered\n",
    "df.filter(\"Confirmed>=1000000\").select(['Country/Region','Deaths','Confirmed','New Recovered']).show()"
   ]
  },
  {
   "cell_type": "code",
   "execution_count": 22,
   "id": "1fe17dcf",
   "metadata": {},
   "outputs": [
    {
     "name": "stdout",
     "output_type": "stream",
     "text": [
      "+--------------+---------+------+---------+------+---------+----------+-------------+------------------+---------------------+----------------------+-------------------+-------------+-----------------+---------------+\n",
      "|Country/Region|Confirmed|Deaths|Recovered|Active|New cases|New deaths|New recovered|Deaths / 100 Cases|Recovered / 100 Cases|Deaths / 100 Recovered|Confirmed last week|1 week change|1 week % increase|     WHO Region|\n",
      "+--------------+---------+------+---------+------+---------+----------+-------------+------------------+---------------------+----------------------+-------------------+-------------+-----------------+---------------+\n",
      "|        Brazil|  2442375| 87618|  1846641|508116|    23284|       614|        33728|              3.59|                75.61|                  4.74|            2118646|       323729|            15.28|       Americas|\n",
      "|         India|  1480073| 33408|   951166|495499|    44457|       637|        33598|              2.26|                64.26|                  3.51|            1155338|       324735|            28.11|South-East Asia|\n",
      "+--------------+---------+------+---------+------+---------+----------+-------------+------------------+---------------------+----------------------+-------------------+-------------+-----------------+---------------+\n",
      "\n"
     ]
    }
   ],
   "source": [
    "#applying and condition and checking for the rows\n",
    "df.filter((df[\"New recovered\"]>=30000) & (df[\"New recovered\"]<=50000)).show()"
   ]
  },
  {
   "cell_type": "code",
   "execution_count": 23,
   "id": "cd06f3e1",
   "metadata": {},
   "outputs": [
    {
     "name": "stdout",
     "output_type": "stream",
     "text": [
      "+--------------+---------+------+---------+-------+---------+----------+-------------+------------------+---------------------+----------------------+-------------------+-------------+-----------------+---------------+\n",
      "|Country/Region|Confirmed|Deaths|Recovered| Active|New cases|New deaths|New recovered|Deaths / 100 Cases|Recovered / 100 Cases|Deaths / 100 Recovered|Confirmed last week|1 week change|1 week % increase|     WHO Region|\n",
      "+--------------+---------+------+---------+-------+---------+----------+-------------+------------------+---------------------+----------------------+-------------------+-------------+-----------------+---------------+\n",
      "|     Argentina|   167416|  3059|    72575|  91782|     4890|       120|         2057|              1.83|                43.35|                  4.21|             130774|        36642|            28.02|       Americas|\n",
      "|    Bangladesh|   226225|  2965|   125683|  97577|     2772|        37|         1801|              1.31|                55.56|                  2.36|             207453|        18772|             9.05|South-East Asia|\n",
      "|        Brazil|  2442375| 87618|  1846641| 508116|    23284|       614|        33728|              3.59|                75.61|                  4.74|            2118646|       323729|            15.28|       Americas|\n",
      "|        Canada|   116458|  8944|        0| 107514|      682|        11|            0|              7.68|                  0.0|                   inf|             112925|         3533|             3.13|       Americas|\n",
      "|      Colombia|   257101|  8777|   131161| 117163|    16306|       508|        11494|              3.41|                51.02|                  6.69|             204005|        53096|            26.03|       Americas|\n",
      "|        France|   220352| 30212|    81212| 108928|     2551|        17|          267|             13.71|                36.86|                  37.2|             214023|         6329|             2.96|         Europe|\n",
      "|         India|  1480073| 33408|   951166| 495499|    44457|       637|        33598|              2.26|                64.26|                  3.51|            1155338|       324735|            28.11|South-East Asia|\n",
      "|          Peru|   389717| 18418|   272547|  98752|    13756|       575|         4697|              4.73|                69.93|                  6.76|             357681|        32036|             8.96|       Americas|\n",
      "|        Russia|   816680| 13334|   602249| 201097|     5607|        85|         3077|              1.63|                73.74|                  2.21|             776212|        40468|             5.21|         Europe|\n",
      "|  South Africa|   452529|  7067|   274925| 170537|     7096|       298|         9848|              1.56|                60.75|                  2.57|             373628|        78901|            21.12|         Africa|\n",
      "|         Spain|   272421| 28432|   150376|  93613|        0|         0|            0|             10.44|                 55.2|                 18.91|             264836|         7585|             2.86|         Europe|\n",
      "|            US|  4290259|148011|  1325804|2816444|    56336|      1076|        27941|              3.45|                 30.9|                 11.16|            3834677|       455582|            11.88|       Americas|\n",
      "|United Kingdom|   301708| 45844|     1437| 254427|      688|         7|            3|             15.19|                 0.48|               3190.26|             296944|         4764|              1.6|         Europe|\n",
      "+--------------+---------+------+---------+-------+---------+----------+-------------+------------------+---------------------+----------------------+-------------------+-------------+-----------------+---------------+\n",
      "\n"
     ]
    }
   ],
   "source": [
    "#This ~ operator is used to negate the condition\n",
    "df.filter(~(df['Active']<=90000)).show()"
   ]
  },
  {
   "cell_type": "code",
   "execution_count": 24,
   "id": "9c20e2c3",
   "metadata": {},
   "outputs": [
    {
     "name": "stdout",
     "output_type": "stream",
     "text": [
      "+-------------------+---------+------+---------+------+---------+----------+-------------+------------------+---------------------+----------------------+-------------------+-------------+-----------------+--------------------+\n",
      "|     Country/Region|Confirmed|Deaths|Recovered|Active|New cases|New deaths|New recovered|Deaths / 100 Cases|Recovered / 100 Cases|Deaths / 100 Recovered|Confirmed last week|1 week change|1 week % increase|          WHO Region|\n",
      "+-------------------+---------+------+---------+------+---------+----------+-------------+------------------+---------------------+----------------------+-------------------+-------------+-----------------+--------------------+\n",
      "|        Afghanistan|    36263|  1269|    25198|  9796|      106|        10|           18|               3.5|                69.49|                  5.04|              35526|          737|             2.07|Eastern Mediterra...|\n",
      "|            Albania|     4880|   144|     2745|  1991|      117|         6|           63|              2.95|                56.25|                  5.25|               4171|          709|             17.0|              Europe|\n",
      "|            Algeria|    27973|  1163|    18837|  7973|      616|         8|          749|              4.16|                67.34|                  6.17|              23691|         4282|            18.07|              Africa|\n",
      "|            Andorra|      907|    52|      803|    52|       10|         0|            0|              5.73|                88.53|                  6.48|                884|           23|              2.6|              Europe|\n",
      "|             Angola|      950|    41|      242|   667|       18|         1|            0|              4.32|                25.47|                 16.94|                749|          201|            26.84|              Africa|\n",
      "|Antigua and Barbuda|       86|     3|       65|    18|        4|         0|            5|              3.49|                75.58|                  4.62|                 76|           10|            13.16|            Americas|\n",
      "|          Argentina|   167416|  3059|    72575| 91782|     4890|       120|         2057|              1.83|                43.35|                  4.21|             130774|        36642|            28.02|            Americas|\n",
      "|            Armenia|    37390|   711|    26665| 10014|       73|         6|          187|               1.9|                71.32|                  2.67|              34981|         2409|             6.89|              Europe|\n",
      "|          Australia|    15303|   167|     9311|  5825|      368|         6|          137|              1.09|                60.84|                  1.79|              12428|         2875|            23.13|     Western Pacific|\n",
      "|            Austria|    20558|   713|    18246|  1599|       86|         1|           37|              3.47|                88.75|                  3.91|              19743|          815|             4.13|              Europe|\n",
      "|         Azerbaijan|    30446|   423|    23242|  6781|      396|         6|          558|              1.39|                76.34|                  1.82|              27890|         2556|             9.16|              Europe|\n",
      "|            Bahamas|      382|    11|       91|   280|       40|         0|            0|              2.88|                23.82|                 12.09|                174|          208|           119.54|            Americas|\n",
      "|            Bahrain|    39482|   141|    36110|  3231|      351|         1|          421|              0.36|                91.46|                  0.39|              36936|         2546|             6.89|Eastern Mediterra...|\n",
      "|         Bangladesh|   226225|  2965|   125683| 97577|     2772|        37|         1801|              1.31|                55.56|                  2.36|             207453|        18772|             9.05|     South-East Asia|\n",
      "|           Barbados|      110|     7|       94|     9|        0|         0|            0|              6.36|                85.45|                  7.45|                106|            4|             3.77|            Americas|\n",
      "|            Belarus|    67251|   538|    60492|  6221|      119|         4|           67|               0.8|                89.95|                  0.89|              66213|         1038|             1.57|              Europe|\n",
      "|            Belgium|    66428|  9822|    17452| 39154|      402|         1|           14|             14.79|                26.27|                 56.28|              64094|         2334|             3.64|              Europe|\n",
      "|             Belize|       48|     2|       26|    20|        0|         0|            0|              4.17|                54.17|                  7.69|                 40|            8|             20.0|            Americas|\n",
      "|              Benin|     1770|    35|     1036|   699|        0|         0|            0|              1.98|                58.53|                  3.38|               1602|          168|            10.49|              Africa|\n",
      "|             Bhutan|       99|     0|       86|    13|        4|         0|            1|               0.0|                86.87|                   0.0|                 90|            9|             10.0|     South-East Asia|\n",
      "+-------------------+---------+------+---------+------+---------+----------+-------------+------------------+---------------------+----------------------+-------------------+-------------+-----------------+--------------------+\n",
      "only showing top 20 rows\n",
      "\n"
     ]
    }
   ],
   "source": [
    "# Aggregate Functions\n",
    "from pyspark.sql import SparkSession\n",
    "spark = SparkSession.builder.appName('Agg').getOrCreate()\n",
    "df = spark.read.csv('country_wise.csv',header=True,inferSchema=True)\n",
    "df.show()\n"
   ]
  },
  {
   "cell_type": "code",
   "execution_count": 25,
   "id": "49791b6d",
   "metadata": {},
   "outputs": [
    {
     "name": "stdout",
     "output_type": "stream",
     "text": [
      "root\n",
      " |-- Country/Region: string (nullable = true)\n",
      " |-- Confirmed: integer (nullable = true)\n",
      " |-- Deaths: integer (nullable = true)\n",
      " |-- Recovered: integer (nullable = true)\n",
      " |-- Active: integer (nullable = true)\n",
      " |-- New cases: integer (nullable = true)\n",
      " |-- New deaths: integer (nullable = true)\n",
      " |-- New recovered: integer (nullable = true)\n",
      " |-- Deaths / 100 Cases: double (nullable = true)\n",
      " |-- Recovered / 100 Cases: double (nullable = true)\n",
      " |-- Deaths / 100 Recovered: string (nullable = true)\n",
      " |-- Confirmed last week: integer (nullable = true)\n",
      " |-- 1 week change: integer (nullable = true)\n",
      " |-- 1 week % increase: double (nullable = true)\n",
      " |-- WHO Region: string (nullable = true)\n",
      "\n"
     ]
    }
   ],
   "source": [
    "df.printSchema()"
   ]
  },
  {
   "cell_type": "code",
   "execution_count": 26,
   "id": "4e0ac244",
   "metadata": {},
   "outputs": [
    {
     "name": "stdout",
     "output_type": "stream",
     "text": [
      "+--------------------+-----------+\n",
      "|          WHO Region|sum(Active)|\n",
      "+--------------------+-----------+\n",
      "|              Europe|    1094656|\n",
      "|     Western Pacific|      77409|\n",
      "|              Africa|     270339|\n",
      "|Eastern Mediterra...|     251005|\n",
      "|            Americas|    4027938|\n",
      "|     South-East Asia|     637015|\n",
      "+--------------------+-----------+\n",
      "\n"
     ]
    }
   ],
   "source": [
    "df.groupBy('WHO Region').sum('Active').show()"
   ]
  },
  {
   "cell_type": "code",
   "execution_count": 27,
   "id": "74f269de",
   "metadata": {},
   "outputs": [
    {
     "name": "stdout",
     "output_type": "stream",
     "text": [
      "+-----------+\n",
      "|max(Active)|\n",
      "+-----------+\n",
      "|    2816444|\n",
      "+-----------+\n",
      "\n"
     ]
    }
   ],
   "source": [
    "# GroupBy which maximum value of the column is selected\n",
    "from pyspark.sql.functions import max\n",
    "df.agg(max(\"Active\")).show()\n"
   ]
  },
  {
   "cell_type": "code",
   "execution_count": 28,
   "id": "37c21187",
   "metadata": {},
   "outputs": [
    {
     "name": "stdout",
     "output_type": "stream",
     "text": [
      "+-----------+\n",
      "|sum(Active)|\n",
      "+-----------+\n",
      "|    6358362|\n",
      "+-----------+\n",
      "\n"
     ]
    }
   ],
   "source": [
    "#to get the sum of the column Active\n",
    "df.agg({'Active':'sum'}).show()    "
   ]
  },
  {
   "cell_type": "code",
   "execution_count": 29,
   "id": "7559a03d",
   "metadata": {},
   "outputs": [
    {
     "name": "stdout",
     "output_type": "stream",
     "text": [
      "+--------------------+-----------+\n",
      "|          WHO Region|min(Active)|\n",
      "+--------------------+-----------+\n",
      "|              Europe|          0|\n",
      "|     Western Pacific|          0|\n",
      "|              Africa|          1|\n",
      "|Eastern Mediterra...|         24|\n",
      "|            Americas|          0|\n",
      "|     South-East Asia|         13|\n",
      "+--------------------+-----------+\n",
      "\n"
     ]
    }
   ],
   "source": [
    "df.groupBy('WHO Region').min('Active').show()"
   ]
  },
  {
   "cell_type": "code",
   "execution_count": 30,
   "id": "d7dfacc0",
   "metadata": {},
   "outputs": [
    {
     "name": "stdout",
     "output_type": "stream",
     "text": [
      "+--------------+---------+------+---------+------+---------+----------+-------------+------------------+---------------------+----------------------+-------------------+-------------+-----------------+---------------------+\n",
      "|Country/Region|Confirmed|Deaths|Recovered|Active|New cases|New deaths|New recovered|Deaths / 100 Cases|Recovered / 100 Cases|Deaths / 100 Recovered|Confirmed last week|1 week change|1 week % increase|WHO Region           |\n",
      "+--------------+---------+------+---------+------+---------+----------+-------------+------------------+---------------------+----------------------+-------------------+-------------+-----------------+---------------------+\n",
      "|Afghanistan   |36263    |1269  |25198    |9796  |106      |10        |18           |3.5               |69.49                |5.04                  |35526              |737          |2.07             |Eastern Mediterranean|\n",
      "|Albania       |4880     |144   |2745     |1991  |117      |6         |63           |2.95              |56.25                |5.25                  |4171               |709          |17.0             |Europe               |\n",
      "|Algeria       |27973    |1163  |18837    |7973  |616      |8         |749          |4.16              |67.34                |6.17                  |23691              |4282         |18.07            |Africa               |\n",
      "|Andorra       |907      |52    |803      |52    |10       |0         |0            |5.73              |88.53                |6.48                  |884                |23           |2.6              |Europe               |\n",
      "|Angola        |950      |41    |242      |667   |18       |1         |0            |4.32              |25.47                |16.94                 |749                |201          |26.84            |Africa               |\n",
      "+--------------+---------+------+---------+------+---------+----------+-------------+------------------+---------------------+----------------------+-------------------+-------------+-----------------+---------------------+\n",
      "only showing top 5 rows\n",
      "\n"
     ]
    }
   ],
   "source": [
    "df.show(5,0)"
   ]
  },
  {
   "cell_type": "code",
   "execution_count": 31,
   "id": "0c5fc1e7",
   "metadata": {},
   "outputs": [
    {
     "name": "stdout",
     "output_type": "stream",
     "text": [
      "+--------------+---------+------+---------+------+---------+----------+-------------+------------------+---------------------+----------------------+-------------------+-------------+-----------------+---------------------+\n",
      "|Country/Region|Confirmed|Deaths|Recovered|Active|New cases|New deaths|New recovered|Deaths / 100 Cases|Recovered / 100 Cases|Deaths / 100 Recovered|Confirmed last week|1 week change|1 week % increase|WHO Region           |\n",
      "+--------------+---------+------+---------+------+---------+----------+-------------+------------------+---------------------+----------------------+-------------------+-------------+-----------------+---------------------+\n",
      "|Afghanistan   |36263    |1269  |25198    |9796  |106      |10        |18           |3.5               |69.49                |5.04                  |35526              |1737         |2.07             |Eastern Mediterranean|\n",
      "|Albania       |4880     |144   |2745     |1991  |117      |6         |63           |2.95              |56.25                |5.25                  |4171               |1709         |17.0             |Europe               |\n",
      "|Algeria       |27973    |1163  |18837    |7973  |616      |8         |749          |4.16              |67.34                |6.17                  |23691              |5282         |18.07            |Africa               |\n",
      "|Andorra       |907      |52    |803      |52    |10       |0         |0            |5.73              |88.53                |6.48                  |884                |1023         |2.6              |Europe               |\n",
      "|Angola        |950      |41    |242      |667   |18       |1         |0            |4.32              |25.47                |16.94                 |749                |1201         |26.84            |Africa               |\n",
      "+--------------+---------+------+---------+------+---------+----------+-------------+------------------+---------------------+----------------------+-------------------+-------------+-----------------+---------------------+\n",
      "only showing top 5 rows\n",
      "\n"
     ]
    }
   ],
   "source": [
    "from pyspark.sql.functions import col\n",
    "df = df.withColumn(\"1 week change\",col(\"1 week change\")+1000)\n",
    "df.show(5,0)"
   ]
  },
  {
   "cell_type": "code",
   "execution_count": 32,
   "id": "487214ba",
   "metadata": {},
   "outputs": [
    {
     "name": "stdout",
     "output_type": "stream",
     "text": [
      "+----------------+---------+------+---------+------+---------+----------+-------------+------------------+---------------------+----------------------+-------------------+-------------+-----------------+---------------+\n",
      "|  Country/Region|Confirmed|Deaths|Recovered|Active|New cases|New deaths|New recovered|Deaths / 100 Cases|Recovered / 100 Cases|Deaths / 100 Recovered|Confirmed last week|1 week change|1 week % increase|     WHO Region|\n",
      "+----------------+---------+------+---------+------+---------+----------+-------------+------------------+---------------------+----------------------+-------------------+-------------+-----------------+---------------+\n",
      "|         Bahamas|      382|    11|       91|   280|       40|         0|            0|              2.88|                23.82|                 12.09|                174|         1208|           119.54|       Americas|\n",
      "|          Gambia|      326|     8|       66|   252|       49|         2|            6|              2.45|                20.25|                 12.12|                112|         1214|           191.07|         Africa|\n",
      "|Papua New Guinea|       62|     0|       11|    51|        0|         0|            0|               0.0|                17.74|                   0.0|                 19|         1043|           226.32|Western Pacific|\n",
      "|        Zimbabwe|     2704|    36|      542|  2126|      192|         2|           24|              1.33|                20.04|                  6.64|               1713|         1991|            57.85|         Africa|\n",
      "+----------------+---------+------+---------+------+---------+----------+-------------+------------------+---------------------+----------------------+-------------------+-------------+-----------------+---------------+\n",
      "\n"
     ]
    }
   ],
   "source": [
    "df = df.filter(col(\"1 week % increase\")>50).show()"
   ]
  },
  {
   "cell_type": "code",
   "execution_count": 33,
   "id": "11ecc720",
   "metadata": {},
   "outputs": [
    {
     "name": "stdout",
     "output_type": "stream",
     "text": [
      "+--------------+---------+------+---------+------+---------+----------+-------------+------------------+---------------------+----------------------+-------------------+-------------+-----------------+--------------------+\n",
      "|Country/Region|Confirmed|Deaths|Recovered|Active|New cases|New deaths|New recovered|Deaths / 100 Cases|Recovered / 100 Cases|Deaths / 100 Recovered|Confirmed last week|1 week change|1 week % increase|          WHO Region|\n",
      "+--------------+---------+------+---------+------+---------+----------+-------------+------------------+---------------------+----------------------+-------------------+-------------+-----------------+--------------------+\n",
      "|   Afghanistan|    36263|  1269|    25198|  9796|      106|        10|           18|               3.5|                69.49|                  5.04|              35526|          737|             2.07|Eastern Mediterra...|\n",
      "|       Albania|     4880|   144|     2745|  1991|      117|         6|           63|              2.95|                56.25|                  5.25|               4171|          709|             17.0|              Europe|\n",
      "|       Algeria|    27973|  1163|    18837|  7973|      616|         8|          749|              4.16|                67.34|                  6.17|              23691|         4282|            18.07|              Africa|\n",
      "|       Andorra|      907|    52|      803|    52|       10|         0|            0|              5.73|                88.53|                  6.48|                884|           23|              2.6|              Europe|\n",
      "|        Angola|      950|    41|      242|   667|       18|         1|            0|              4.32|                25.47|                 16.94|                749|          201|            26.84|              Africa|\n",
      "+--------------+---------+------+---------+------+---------+----------+-------------+------------------+---------------------+----------------------+-------------------+-------------+-----------------+--------------------+\n",
      "only showing top 5 rows\n",
      "\n",
      "+--------------------+-----------+--------------+\n",
      "|          WHO Region|max(Active)|sum(Confirmed)|\n",
      "+--------------------+-----------+--------------+\n",
      "|              Europe|     254427|       3299523|\n",
      "|     Western Pacific|      53649|        292428|\n",
      "|              Africa|     170537|        723207|\n",
      "|Eastern Mediterra...|      52992|       1490744|\n",
      "|            Americas|    2816444|       8839286|\n",
      "|     South-East Asia|     495499|       1835297|\n",
      "+--------------------+-----------+--------------+\n",
      "\n"
     ]
    }
   ],
   "source": [
    "from pyspark.sql import SparkSession\n",
    "spark = SparkSession.builder.appName('Agg').getOrCreate()\n",
    "df = spark.read.csv(\"country_wise.csv\", header=True, inferSchema=True)\n",
    "df.show(5)\n",
    "df.groupBy(\"WHO Region\").agg({\"Confirmed\":\"sum\",\"Active\":\"max\"}).show()"
   ]
  },
  {
   "cell_type": "code",
   "execution_count": 34,
   "id": "cefa2b49",
   "metadata": {},
   "outputs": [
    {
     "name": "stdout",
     "output_type": "stream",
     "text": [
      "+--------------+---------+------+---------+------+---------+----------+-------------+------------------+---------------------+----------------------+-------------------+-------------+-----------------+----------+\n",
      "|Country/Region|Confirmed|Deaths|Recovered|Active|New cases|New deaths|New recovered|Deaths / 100 Cases|Recovered / 100 Cases|Deaths / 100 Recovered|Confirmed last week|1 week change|1 week % increase|WHO Region|\n",
      "+--------------+---------+------+---------+------+---------+----------+-------------+------------------+---------------------+----------------------+-------------------+-------------+-----------------+----------+\n",
      "|       Albania|     4880|   144|     2745|  1991|      117|         6|           63|              2.95|                56.25|                  5.25|               4171|          709|             17.0|    Europe|\n",
      "+--------------+---------+------+---------+------+---------+----------+-------------+------------------+---------------------+----------------------+-------------------+-------------+-----------------+----------+\n",
      "\n"
     ]
    }
   ],
   "source": [
    "# Filter operations\n",
    "df.filter(df[\"Country/Region\"] == \"Albania\").show()"
   ]
  },
  {
   "cell_type": "code",
   "execution_count": 35,
   "id": "d6dcf58e",
   "metadata": {},
   "outputs": [
    {
     "name": "stdout",
     "output_type": "stream",
     "text": [
      "+--------------+---------+------+---------+------+---------+----------+-------------+------------------+---------------------+----------------------+-------------------+-------------+-----------------+---------------------+\n",
      "|Country/Region|Confirmed|Deaths|Recovered|Active|New cases|New deaths|New recovered|Deaths / 100 Cases|Recovered / 100 Cases|Deaths / 100 Recovered|Confirmed last week|1 week change|1 week % increase|WHO Region           |\n",
      "+--------------+---------+------+---------+------+---------+----------+-------------+------------------+---------------------+----------------------+-------------------+-------------+-----------------+---------------------+\n",
      "|Afghanistan   |36263    |1269  |25198    |9796  |1106     |10        |18           |3.5               |69.49                |5.04                  |35526              |737          |2.07             |Eastern Mediterranean|\n",
      "|Albania       |4880     |144   |2745     |1991  |117      |6         |63           |2.95              |56.25                |5.25                  |4171               |709          |17.0             |Europe               |\n",
      "|Algeria       |27973    |1163  |18837    |7973  |616      |8         |749          |4.16              |67.34                |6.17                  |23691              |4282         |18.07            |Africa               |\n",
      "|Andorra       |907      |52    |803      |52    |10       |0         |0            |5.73              |88.53                |6.48                  |884                |23           |2.6              |Europe               |\n",
      "|Angola        |950      |41    |242      |667   |18       |1         |0            |4.32              |25.47                |16.94                 |749                |201          |26.84            |Africa               |\n",
      "+--------------+---------+------+---------+------+---------+----------+-------------+------------------+---------------------+----------------------+-------------------+-------------+-----------------+---------------------+\n",
      "only showing top 5 rows\n",
      "\n"
     ]
    }
   ],
   "source": [
    "from pyspark.sql.functions import when,col \n",
    "df = df.withColumn(\"New cases\",when(col(\"Country/Region\")==\"Afghanistan\", col(\"New cases\") + 1000).otherwise(col(\"New cases\")))\n",
    "df.show(5,0)"
   ]
  },
  {
   "cell_type": "code",
   "execution_count": 36,
   "id": "35693e36",
   "metadata": {},
   "outputs": [],
   "source": [
    "# inserting new row\n",
    "from pyspark.sql import Row\n",
    "row = spark.createDataFrame([Row(\"India\",1106,1269,25198,9796,11,1,18,3.5,69.49,5.04,35526,737,2.07,\"Eastern Mediterranean\")])\n",
    "df = df.union(row)"
   ]
  },
  {
   "cell_type": "code",
   "execution_count": 37,
   "id": "8f3eed14",
   "metadata": {},
   "outputs": [
    {
     "name": "stdout",
     "output_type": "stream",
     "text": [
      "root\n",
      " |-- Country/Region: string (nullable = true)\n",
      " |-- Confirmed: long (nullable = true)\n",
      " |-- Deaths: long (nullable = true)\n",
      " |-- Recovered: long (nullable = true)\n",
      " |-- Active: long (nullable = true)\n",
      " |-- New cases: long (nullable = true)\n",
      " |-- New deaths: long (nullable = true)\n",
      " |-- New recovered: long (nullable = true)\n",
      " |-- Deaths / 100 Cases: double (nullable = true)\n",
      " |-- Recovered / 100 Cases: double (nullable = true)\n",
      " |-- Deaths / 100 Recovered: string (nullable = true)\n",
      " |-- Confirmed last week: long (nullable = true)\n",
      " |-- 1 week change: long (nullable = true)\n",
      " |-- 1 week % increase: double (nullable = true)\n",
      " |-- WHO Region: string (nullable = true)\n",
      "\n"
     ]
    }
   ],
   "source": [
    "df.printSchema()"
   ]
  },
  {
   "cell_type": "code",
   "execution_count": 38,
   "id": "1170780f",
   "metadata": {},
   "outputs": [
    {
     "name": "stdout",
     "output_type": "stream",
     "text": [
      "+--------------+\n",
      "|       Country|\n",
      "+--------------+\n",
      "|          Chad|\n",
      "|      Paraguay|\n",
      "|        Russia|\n",
      "|         Yemen|\n",
      "|       Senegal|\n",
      "|    Cabo Verde|\n",
      "|        Sweden|\n",
      "|        Guyana|\n",
      "|         Burma|\n",
      "|       Eritrea|\n",
      "|   Philippines|\n",
      "|      Djibouti|\n",
      "|      Malaysia|\n",
      "|     Singapore|\n",
      "|          Fiji|\n",
      "|        Turkey|\n",
      "|        Malawi|\n",
      "|Western Sahara|\n",
      "|          Iraq|\n",
      "|       Germany|\n",
      "+--------------+\n",
      "only showing top 20 rows\n",
      "\n"
     ]
    }
   ],
   "source": [
    "from pyspark.sql.functions import col\n",
    "df = df.withColumnRenamed(\"Country/Region\", \"Country\").cache()\n",
    "df.select(\"Country\").distinct().show()\n"
   ]
  },
  {
   "cell_type": "code",
   "execution_count": 39,
   "id": "874b72f6",
   "metadata": {},
   "outputs": [
    {
     "name": "stdout",
     "output_type": "stream",
     "text": [
      "+-------+---------+------+---------+------+---------+----------+-------------+------------------+---------------------+----------------------+-------------------+-------------+-----------------+--------------------+\n",
      "|Country|Confirmed|Deaths|Recovered|Active|New cases|New deaths|New recovered|Deaths / 100 Cases|Recovered / 100 Cases|Deaths / 100 Recovered|Confirmed last week|1 week change|1 week % increase|          WHO Region|\n",
      "+-------+---------+------+---------+------+---------+----------+-------------+------------------+---------------------+----------------------+-------------------+-------------+-----------------+--------------------+\n",
      "|  India|  1480073| 33408|   951166|495499|    44457|       637|        33598|              2.26|                64.26|                  3.51|            1155338|       324735|            28.11|     South-East Asia|\n",
      "|  India|     1106|  1269|    25198|  9796|       11|         1|           18|               3.5|                69.49|                  5.04|              35526|          737|             2.07|Eastern Mediterra...|\n",
      "+-------+---------+------+---------+------+---------+----------+-------------+------------------+---------------------+----------------------+-------------------+-------------+-----------------+--------------------+\n",
      "\n"
     ]
    }
   ],
   "source": [
    "df.filter(df[\"Country\"] == \"India\").show()"
   ]
  },
  {
   "cell_type": "code",
   "execution_count": 42,
   "id": "aa73146a",
   "metadata": {},
   "outputs": [
    {
     "name": "stdout",
     "output_type": "stream",
     "text": [
      "+-------+---------+------+---------+------+---------+----------+-------------+------------------+---------------------+----------------------+-------------------+-------------+-----------------+---------------+\n",
      "|Country|Confirmed|Deaths|Recovered|Active|New cases|New deaths|New recovered|Deaths / 100 Cases|Recovered / 100 Cases|Deaths / 100 Recovered|Confirmed last week|1 week change|1 week % increase|     WHO Region|\n",
      "+-------+---------+------+---------+------+---------+----------+-------------+------------------+---------------------+----------------------+-------------------+-------------+-----------------+---------------+\n",
      "|  India|  1480073| 33408|   951166|495499|    44457|       637|        33598|              2.26|                64.26|                  3.51|            1155338|       324735|            28.11|South-East Asia|\n",
      "+-------+---------+------+---------+------+---------+----------+-------------+------------------+---------------------+----------------------+-------------------+-------------+-----------------+---------------+\n",
      "\n"
     ]
    }
   ],
   "source": [
    "#Delete row by id\n",
    "df =df.filter(df[\"Confirmed\"] != 1106)\n",
    "df.filter(df[\"Country\"]=='India').show()"
   ]
  },
  {
   "cell_type": "code",
   "execution_count": 44,
   "id": "40990038",
   "metadata": {},
   "outputs": [
    {
     "name": "stdout",
     "output_type": "stream",
     "text": [
      "+--------------------+-------------------+\n",
      "|          WHO Region|Confirmed_avg_cases|\n",
      "+--------------------+-------------------+\n",
      "|              Europe|  58920.05357142857|\n",
      "|     Western Pacific|           18276.75|\n",
      "|              Africa|         15066.8125|\n",
      "|Eastern Mediterra...|  67761.09090909091|\n",
      "|            Americas|  252551.0285714286|\n",
      "|     South-East Asia|           183529.7|\n",
      "+--------------------+-------------------+\n",
      "\n"
     ]
    }
   ],
   "source": [
    "#groupby and aggregate\n",
    "from pyspark.sql.functions import avg\n",
    "df.groupBy(\"WHO Region\").agg(avg(\"Confirmed\").alias(\"Confirmed_avg_cases\")).show()"
   ]
  }
 ],
 "metadata": {
  "kernelspec": {
   "display_name": "Python 3",
   "language": "python",
   "name": "python3"
  },
  "language_info": {
   "codemirror_mode": {
    "name": "ipython",
    "version": 3
   },
   "file_extension": ".py",
   "mimetype": "text/x-python",
   "name": "python",
   "nbconvert_exporter": "python",
   "pygments_lexer": "ipython3",
   "version": "3.9.0"
  }
 },
 "nbformat": 4,
 "nbformat_minor": 5
}
